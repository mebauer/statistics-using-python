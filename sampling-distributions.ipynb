{
 "cells": [
  {
   "cell_type": "markdown",
   "id": "6210d6e3",
   "metadata": {},
   "source": [
    "# Data and Sampling Distributions"
   ]
  },
  {
   "cell_type": "code",
   "execution_count": 1,
   "id": "ada87982",
   "metadata": {},
   "outputs": [],
   "source": [
    "# importing libraries\n",
    "import pandas as pd\n",
    "import numpy as np\n",
    "import matplotlib.pyplot as plt\n",
    "import seaborn as sns\n",
    "from sklearn.utils import resample\n",
    "from scipy import stats"
   ]
  },
  {
   "cell_type": "code",
   "execution_count": 2,
   "id": "185ac823",
   "metadata": {},
   "outputs": [
    {
     "name": "stdout",
     "output_type": "stream",
     "text": [
      "Python implementation: CPython\n",
      "Python version       : 3.8.13\n",
      "IPython version      : 8.4.0\n",
      "\n",
      "numpy     : 1.23.1\n",
      "pandas    : 1.4.3\n",
      "matplotlib: 3.5.2\n",
      "seaborn   : 0.11.2\n",
      "\n"
     ]
    }
   ],
   "source": [
    "# printing verions of Python modules and packages with **watermark** \n",
    "# documention for installing watermark: https://github.com/rasbt/watermark\n",
    "\n",
    "%reload_ext watermark\n",
    "%watermark -v -p numpy,pandas,matplotlib,seaborn"
   ]
  },
  {
   "cell_type": "code",
   "execution_count": 3,
   "id": "3586db2e",
   "metadata": {},
   "outputs": [
    {
     "name": "stdout",
     "output_type": "stream",
     "text": [
      "shape of data: (861876, 26)\n",
      "CPU times: user 7.36 s, sys: 2.19 s, total: 9.55 s\n",
      "Wall time: 1min 1s\n"
     ]
    },
    {
     "data": {
      "text/html": [
       "<div>\n",
       "<style scoped>\n",
       "    .dataframe tbody tr th:only-of-type {\n",
       "        vertical-align: middle;\n",
       "    }\n",
       "\n",
       "    .dataframe tbody tr th {\n",
       "        vertical-align: top;\n",
       "    }\n",
       "\n",
       "    .dataframe thead th {\n",
       "        text-align: right;\n",
       "    }\n",
       "</style>\n",
       "<table border=\"1\" class=\"dataframe\">\n",
       "  <thead>\n",
       "    <tr style=\"text-align: right;\">\n",
       "      <th></th>\n",
       "      <th>the_geom</th>\n",
       "      <th>bin</th>\n",
       "      <th>bbl</th>\n",
       "      <th>borough</th>\n",
       "      <th>block</th>\n",
       "      <th>lot</th>\n",
       "      <th>address</th>\n",
       "      <th>z_grade</th>\n",
       "      <th>z_floor</th>\n",
       "      <th>subgrade</th>\n",
       "      <th>...</th>\n",
       "      <th>longitude</th>\n",
       "      <th>pluto_bbl</th>\n",
       "      <th>Council</th>\n",
       "      <th>BoroCD</th>\n",
       "      <th>CTLabel</th>\n",
       "      <th>BoroCT2020</th>\n",
       "      <th>NTA2020</th>\n",
       "      <th>NTAName</th>\n",
       "      <th>CDTA2020</th>\n",
       "      <th>CDTAName</th>\n",
       "    </tr>\n",
       "  </thead>\n",
       "  <tbody>\n",
       "    <tr>\n",
       "      <th>0</th>\n",
       "      <td>POINT (-74.22274561187417 40.52134422844183)</td>\n",
       "      <td>5128004</td>\n",
       "      <td>5075340353</td>\n",
       "      <td>5.0</td>\n",
       "      <td>7534.0</td>\n",
       "      <td>353</td>\n",
       "      <td>78 SAVO LOOP</td>\n",
       "      <td>29.428</td>\n",
       "      <td>32.332</td>\n",
       "      <td>N</td>\n",
       "      <td>...</td>\n",
       "      <td>-74.222746</td>\n",
       "      <td>5075340353</td>\n",
       "      <td>51</td>\n",
       "      <td>503</td>\n",
       "      <td>226.01</td>\n",
       "      <td>5022601</td>\n",
       "      <td>SI0304</td>\n",
       "      <td>Annadale-Huguenot-Prince's Bay-Woodrow</td>\n",
       "      <td>SI03</td>\n",
       "      <td>SI03 South Shore (CD 3 Approximation)</td>\n",
       "    </tr>\n",
       "    <tr>\n",
       "      <th>1</th>\n",
       "      <td>POINT (-74.24179250549321 40.52875316810818)</td>\n",
       "      <td>5155392</td>\n",
       "      <td>5075960125</td>\n",
       "      <td>5.0</td>\n",
       "      <td>7596.0</td>\n",
       "      <td>125</td>\n",
       "      <td>72 CHART LOOP</td>\n",
       "      <td>25.366</td>\n",
       "      <td>26.703</td>\n",
       "      <td>N</td>\n",
       "      <td>...</td>\n",
       "      <td>-74.241793</td>\n",
       "      <td>5075960125</td>\n",
       "      <td>51</td>\n",
       "      <td>503</td>\n",
       "      <td>226.02</td>\n",
       "      <td>5022602</td>\n",
       "      <td>SI0305</td>\n",
       "      <td>Tottenville-Charleston</td>\n",
       "      <td>SI03</td>\n",
       "      <td>SI03 South Shore (CD 3 Approximation)</td>\n",
       "    </tr>\n",
       "    <tr>\n",
       "      <th>2</th>\n",
       "      <td>POINT (-74.24109012652094 40.528883822921635)</td>\n",
       "      <td>5148808</td>\n",
       "      <td>5075960131</td>\n",
       "      <td>5.0</td>\n",
       "      <td>7596.0</td>\n",
       "      <td>131</td>\n",
       "      <td>40 TIDES LANE</td>\n",
       "      <td>36.172</td>\n",
       "      <td>38.902</td>\n",
       "      <td>N</td>\n",
       "      <td>...</td>\n",
       "      <td>-74.241090</td>\n",
       "      <td>5075960131</td>\n",
       "      <td>51</td>\n",
       "      <td>503</td>\n",
       "      <td>226.02</td>\n",
       "      <td>5022602</td>\n",
       "      <td>SI0305</td>\n",
       "      <td>Tottenville-Charleston</td>\n",
       "      <td>SI03</td>\n",
       "      <td>SI03 South Shore (CD 3 Approximation)</td>\n",
       "    </tr>\n",
       "    <tr>\n",
       "      <th>3</th>\n",
       "      <td>POINT (-74.24649640323727 40.507045708438184)</td>\n",
       "      <td>5088274</td>\n",
       "      <td>5079150042</td>\n",
       "      <td>5.0</td>\n",
       "      <td>7915.0</td>\n",
       "      <td>42</td>\n",
       "      <td>328 MAIN STREET</td>\n",
       "      <td>69.897</td>\n",
       "      <td>72.459</td>\n",
       "      <td>N</td>\n",
       "      <td>...</td>\n",
       "      <td>-74.246496</td>\n",
       "      <td>5079150042</td>\n",
       "      <td>51</td>\n",
       "      <td>503</td>\n",
       "      <td>244.01</td>\n",
       "      <td>5024401</td>\n",
       "      <td>SI0305</td>\n",
       "      <td>Tottenville-Charleston</td>\n",
       "      <td>SI03</td>\n",
       "      <td>SI03 South Shore (CD 3 Approximation)</td>\n",
       "    </tr>\n",
       "    <tr>\n",
       "      <th>4</th>\n",
       "      <td>POINT (-74.24198032271697 40.51005666426356)</td>\n",
       "      <td>5087850</td>\n",
       "      <td>5078680123</td>\n",
       "      <td>5.0</td>\n",
       "      <td>7868.0</td>\n",
       "      <td>123</td>\n",
       "      <td>309 SLEIGHT AVENUE</td>\n",
       "      <td>74.907</td>\n",
       "      <td>79.122</td>\n",
       "      <td>N</td>\n",
       "      <td>...</td>\n",
       "      <td>-74.241980</td>\n",
       "      <td>5078680123</td>\n",
       "      <td>51</td>\n",
       "      <td>503</td>\n",
       "      <td>244.01</td>\n",
       "      <td>5024401</td>\n",
       "      <td>SI0305</td>\n",
       "      <td>Tottenville-Charleston</td>\n",
       "      <td>SI03</td>\n",
       "      <td>SI03 South Shore (CD 3 Approximation)</td>\n",
       "    </tr>\n",
       "  </tbody>\n",
       "</table>\n",
       "<p>5 rows × 26 columns</p>\n",
       "</div>"
      ],
      "text/plain": [
       "                                        the_geom      bin         bbl  \\\n",
       "0   POINT (-74.22274561187417 40.52134422844183)  5128004  5075340353   \n",
       "1   POINT (-74.24179250549321 40.52875316810818)  5155392  5075960125   \n",
       "2  POINT (-74.24109012652094 40.528883822921635)  5148808  5075960131   \n",
       "3  POINT (-74.24649640323727 40.507045708438184)  5088274  5079150042   \n",
       "4   POINT (-74.24198032271697 40.51005666426356)  5087850  5078680123   \n",
       "\n",
       "   borough   block  lot             address  z_grade  z_floor subgrade  ...  \\\n",
       "0      5.0  7534.0  353        78 SAVO LOOP   29.428   32.332        N  ...   \n",
       "1      5.0  7596.0  125       72 CHART LOOP   25.366   26.703        N  ...   \n",
       "2      5.0  7596.0  131       40 TIDES LANE   36.172   38.902        N  ...   \n",
       "3      5.0  7915.0   42     328 MAIN STREET   69.897   72.459        N  ...   \n",
       "4      5.0  7868.0  123  309 SLEIGHT AVENUE   74.907   79.122        N  ...   \n",
       "\n",
       "   longitude   pluto_bbl Council  BoroCD  CTLabel  BoroCT2020  NTA2020  \\\n",
       "0 -74.222746  5075340353      51     503   226.01     5022601   SI0304   \n",
       "1 -74.241793  5075960125      51     503   226.02     5022602   SI0305   \n",
       "2 -74.241090  5075960131      51     503   226.02     5022602   SI0305   \n",
       "3 -74.246496  5079150042      51     503   244.01     5024401   SI0305   \n",
       "4 -74.241980  5078680123      51     503   244.01     5024401   SI0305   \n",
       "\n",
       "                                  NTAName  CDTA2020  \\\n",
       "0  Annadale-Huguenot-Prince's Bay-Woodrow      SI03   \n",
       "1                  Tottenville-Charleston      SI03   \n",
       "2                  Tottenville-Charleston      SI03   \n",
       "3                  Tottenville-Charleston      SI03   \n",
       "4                  Tottenville-Charleston      SI03   \n",
       "\n",
       "                                CDTAName  \n",
       "0  SI03 South Shore (CD 3 Approximation)  \n",
       "1  SI03 South Shore (CD 3 Approximation)  \n",
       "2  SI03 South Shore (CD 3 Approximation)  \n",
       "3  SI03 South Shore (CD 3 Approximation)  \n",
       "4  SI03 South Shore (CD 3 Approximation)  \n",
       "\n",
       "[5 rows x 26 columns]"
      ]
     },
     "execution_count": 3,
     "metadata": {},
     "output_type": "execute_result"
    }
   ],
   "source": [
    "%%time\n",
    "\n",
    "# path on the web\n",
    "path = 'https://data.cityofnewyork.us/api/views/bsin-59hv/rows.csv?date=20240317&accessType=DOWNLOAD'\n",
    "df = pd.read_csv(path, low_memory=False)\n",
    "\n",
    "print('shape of data: {}'.format(df.shape))\n",
    "df.head()"
   ]
  },
  {
   "cell_type": "markdown",
   "id": "05ad126f",
   "metadata": {},
   "source": [
    "Brief data cleaning the source data."
   ]
  },
  {
   "cell_type": "code",
   "execution_count": 4,
   "id": "b41069ed",
   "metadata": {},
   "outputs": [
    {
     "data": {
      "text/html": [
       "<div>\n",
       "<style scoped>\n",
       "    .dataframe tbody tr th:only-of-type {\n",
       "        vertical-align: middle;\n",
       "    }\n",
       "\n",
       "    .dataframe tbody tr th {\n",
       "        vertical-align: top;\n",
       "    }\n",
       "\n",
       "    .dataframe thead th {\n",
       "        text-align: right;\n",
       "    }\n",
       "</style>\n",
       "<table border=\"1\" class=\"dataframe\">\n",
       "  <thead>\n",
       "    <tr style=\"text-align: right;\">\n",
       "      <th></th>\n",
       "      <th>z_grade</th>\n",
       "      <th>z_floor</th>\n",
       "    </tr>\n",
       "  </thead>\n",
       "  <tbody>\n",
       "    <tr>\n",
       "      <th>count</th>\n",
       "      <td>847837.000000</td>\n",
       "      <td>847838.000000</td>\n",
       "    </tr>\n",
       "    <tr>\n",
       "      <th>mean</th>\n",
       "      <td>54.807770</td>\n",
       "      <td>59.075916</td>\n",
       "    </tr>\n",
       "    <tr>\n",
       "      <th>std</th>\n",
       "      <td>41.961752</td>\n",
       "      <td>42.244047</td>\n",
       "    </tr>\n",
       "    <tr>\n",
       "      <th>min</th>\n",
       "      <td>-13.096000</td>\n",
       "      <td>0.703000</td>\n",
       "    </tr>\n",
       "    <tr>\n",
       "      <th>25%</th>\n",
       "      <td>24.228000</td>\n",
       "      <td>28.361000</td>\n",
       "    </tr>\n",
       "    <tr>\n",
       "      <th>50%</th>\n",
       "      <td>45.095000</td>\n",
       "      <td>49.224000</td>\n",
       "    </tr>\n",
       "    <tr>\n",
       "      <th>75%</th>\n",
       "      <td>73.343000</td>\n",
       "      <td>77.704750</td>\n",
       "    </tr>\n",
       "    <tr>\n",
       "      <th>max</th>\n",
       "      <td>402.839000</td>\n",
       "      <td>404.397000</td>\n",
       "    </tr>\n",
       "  </tbody>\n",
       "</table>\n",
       "</div>"
      ],
      "text/plain": [
       "             z_grade        z_floor\n",
       "count  847837.000000  847838.000000\n",
       "mean       54.807770      59.075916\n",
       "std        41.961752      42.244047\n",
       "min       -13.096000       0.703000\n",
       "25%        24.228000      28.361000\n",
       "50%        45.095000      49.224000\n",
       "75%        73.343000      77.704750\n",
       "max       402.839000     404.397000"
      ]
     },
     "execution_count": 4,
     "metadata": {},
     "output_type": "execute_result"
    }
   ],
   "source": [
    "df.loc[df['z_grade'] == 0, 'z_grade'] = np.nan\n",
    "df.loc[df['z_floor'] == 0, 'z_floor'] = np.nan\n",
    "\n",
    "df.loc[:, ['z_grade', 'z_floor']].describe()"
   ]
  },
  {
   "cell_type": "code",
   "execution_count": 5,
   "id": "5f27d9b3",
   "metadata": {},
   "outputs": [
    {
     "data": {
      "text/plain": [
       "count    847837.000000\n",
       "mean          4.268165\n",
       "std           3.087395\n",
       "min         -50.487000\n",
       "25%           2.015000\n",
       "50%           3.627000\n",
       "75%           6.571000\n",
       "max          94.440000\n",
       "Name: z_floor_grade, dtype: float64"
      ]
     },
     "execution_count": 5,
     "metadata": {},
     "output_type": "execute_result"
    }
   ],
   "source": [
    "# calculate building grade to floor height\n",
    "df = df.assign(z_floor_grade=df['z_floor'] - df['z_grade'])\n",
    "\n",
    "df['z_floor_grade'].describe()"
   ]
  },
  {
   "cell_type": "markdown",
   "id": "c6f9e859",
   "metadata": {},
   "source": [
    "# Sampling Distribution of a Statistic"
   ]
  },
  {
   "cell_type": "code",
   "execution_count": 6,
   "id": "8ca64a5b",
   "metadata": {},
   "outputs": [
    {
     "data": {
      "text/html": [
       "<div>\n",
       "<style scoped>\n",
       "    .dataframe tbody tr th:only-of-type {\n",
       "        vertical-align: middle;\n",
       "    }\n",
       "\n",
       "    .dataframe tbody tr th {\n",
       "        vertical-align: top;\n",
       "    }\n",
       "\n",
       "    .dataframe thead th {\n",
       "        text-align: right;\n",
       "    }\n",
       "</style>\n",
       "<table border=\"1\" class=\"dataframe\">\n",
       "  <thead>\n",
       "    <tr style=\"text-align: right;\">\n",
       "      <th></th>\n",
       "      <th>z_floor_grade</th>\n",
       "      <th>type</th>\n",
       "    </tr>\n",
       "  </thead>\n",
       "  <tbody>\n",
       "    <tr>\n",
       "      <th>438021</th>\n",
       "      <td>4.80900</td>\n",
       "      <td>Data</td>\n",
       "    </tr>\n",
       "    <tr>\n",
       "      <th>519334</th>\n",
       "      <td>3.06800</td>\n",
       "      <td>Data</td>\n",
       "    </tr>\n",
       "    <tr>\n",
       "      <th>617991</th>\n",
       "      <td>0.51100</td>\n",
       "      <td>Data</td>\n",
       "    </tr>\n",
       "    <tr>\n",
       "      <th>685546</th>\n",
       "      <td>7.62500</td>\n",
       "      <td>Data</td>\n",
       "    </tr>\n",
       "    <tr>\n",
       "      <th>535533</th>\n",
       "      <td>4.33400</td>\n",
       "      <td>Data</td>\n",
       "    </tr>\n",
       "    <tr>\n",
       "      <th>...</th>\n",
       "      <td>...</td>\n",
       "      <td>...</td>\n",
       "    </tr>\n",
       "    <tr>\n",
       "      <th>995</th>\n",
       "      <td>5.50485</td>\n",
       "      <td>Mean of 20</td>\n",
       "    </tr>\n",
       "    <tr>\n",
       "      <th>996</th>\n",
       "      <td>6.22735</td>\n",
       "      <td>Mean of 20</td>\n",
       "    </tr>\n",
       "    <tr>\n",
       "      <th>997</th>\n",
       "      <td>5.16770</td>\n",
       "      <td>Mean of 20</td>\n",
       "    </tr>\n",
       "    <tr>\n",
       "      <th>998</th>\n",
       "      <td>4.14765</td>\n",
       "      <td>Mean of 20</td>\n",
       "    </tr>\n",
       "    <tr>\n",
       "      <th>999</th>\n",
       "      <td>4.52770</td>\n",
       "      <td>Mean of 20</td>\n",
       "    </tr>\n",
       "  </tbody>\n",
       "</table>\n",
       "<p>3000 rows × 2 columns</p>\n",
       "</div>"
      ],
      "text/plain": [
       "        z_floor_grade        type\n",
       "438021        4.80900        Data\n",
       "519334        3.06800        Data\n",
       "617991        0.51100        Data\n",
       "685546        7.62500        Data\n",
       "535533        4.33400        Data\n",
       "...               ...         ...\n",
       "995           5.50485  Mean of 20\n",
       "996           6.22735  Mean of 20\n",
       "997           5.16770  Mean of 20\n",
       "998           4.14765  Mean of 20\n",
       "999           4.52770  Mean of 20\n",
       "\n",
       "[3000 rows x 2 columns]"
      ]
     },
     "execution_count": 6,
     "metadata": {},
     "output_type": "execute_result"
    }
   ],
   "source": [
    "sample_data = pd.DataFrame({\n",
    "    'z_floor_grade': df['z_floor_grade'].dropna().sample(1000),\n",
    "    'type': 'Data'\n",
    "})\n",
    "\n",
    "sample_mean_05 = pd.DataFrame({\n",
    "    'z_floor_grade': [df['z_floor_grade'].sample(5).mean() for _ in range(1000)],\n",
    "    'type': 'Mean of 5'\n",
    "})\n",
    "\n",
    "sample_mean_20 = pd.DataFrame({\n",
    "    'z_floor_grade': [df['z_floor_grade'].sample(20).mean() for _ in range(1000)],\n",
    "    'type': 'Mean of 20'\n",
    "})\n",
    "\n",
    "results = pd.concat([\n",
    "    sample_data,\n",
    "    sample_mean_05,\n",
    "    sample_mean_20\n",
    "])\n",
    "\n",
    "results"
   ]
  },
  {
   "cell_type": "code",
   "execution_count": 7,
   "id": "0caa11df",
   "metadata": {},
   "outputs": [
    {
     "data": {
      "text/html": [
       "<div>\n",
       "<style scoped>\n",
       "    .dataframe tbody tr th:only-of-type {\n",
       "        vertical-align: middle;\n",
       "    }\n",
       "\n",
       "    .dataframe tbody tr th {\n",
       "        vertical-align: top;\n",
       "    }\n",
       "\n",
       "    .dataframe thead tr th {\n",
       "        text-align: left;\n",
       "    }\n",
       "\n",
       "    .dataframe thead tr:last-of-type th {\n",
       "        text-align: right;\n",
       "    }\n",
       "</style>\n",
       "<table border=\"1\" class=\"dataframe\">\n",
       "  <thead>\n",
       "    <tr>\n",
       "      <th></th>\n",
       "      <th colspan=\"8\" halign=\"left\">z_floor_grade</th>\n",
       "    </tr>\n",
       "    <tr>\n",
       "      <th></th>\n",
       "      <th>count</th>\n",
       "      <th>mean</th>\n",
       "      <th>std</th>\n",
       "      <th>min</th>\n",
       "      <th>25%</th>\n",
       "      <th>50%</th>\n",
       "      <th>75%</th>\n",
       "      <th>max</th>\n",
       "    </tr>\n",
       "    <tr>\n",
       "      <th>type</th>\n",
       "      <th></th>\n",
       "      <th></th>\n",
       "      <th></th>\n",
       "      <th></th>\n",
       "      <th></th>\n",
       "      <th></th>\n",
       "      <th></th>\n",
       "      <th></th>\n",
       "    </tr>\n",
       "  </thead>\n",
       "  <tbody>\n",
       "    <tr>\n",
       "      <th>Data</th>\n",
       "      <td>1000.0</td>\n",
       "      <td>4.438282</td>\n",
       "      <td>3.182992</td>\n",
       "      <td>-0.279000</td>\n",
       "      <td>2.141750</td>\n",
       "      <td>3.751500</td>\n",
       "      <td>6.911500</td>\n",
       "      <td>24.020000</td>\n",
       "    </tr>\n",
       "    <tr>\n",
       "      <th>Mean of 20</th>\n",
       "      <td>1000.0</td>\n",
       "      <td>4.303941</td>\n",
       "      <td>0.698980</td>\n",
       "      <td>2.258556</td>\n",
       "      <td>3.822675</td>\n",
       "      <td>4.286912</td>\n",
       "      <td>4.754938</td>\n",
       "      <td>7.931579</td>\n",
       "    </tr>\n",
       "    <tr>\n",
       "      <th>Mean of 5</th>\n",
       "      <td>1000.0</td>\n",
       "      <td>4.307275</td>\n",
       "      <td>1.384310</td>\n",
       "      <td>0.961200</td>\n",
       "      <td>3.354600</td>\n",
       "      <td>4.212300</td>\n",
       "      <td>5.134600</td>\n",
       "      <td>10.816200</td>\n",
       "    </tr>\n",
       "  </tbody>\n",
       "</table>\n",
       "</div>"
      ],
      "text/plain": [
       "           z_floor_grade                                                    \\\n",
       "                   count      mean       std       min       25%       50%   \n",
       "type                                                                         \n",
       "Data              1000.0  4.438282  3.182992 -0.279000  2.141750  3.751500   \n",
       "Mean of 20        1000.0  4.303941  0.698980  2.258556  3.822675  4.286912   \n",
       "Mean of 5         1000.0  4.307275  1.384310  0.961200  3.354600  4.212300   \n",
       "\n",
       "                                 \n",
       "                 75%        max  \n",
       "type                             \n",
       "Data        6.911500  24.020000  \n",
       "Mean of 20  4.754938   7.931579  \n",
       "Mean of 5   5.134600  10.816200  "
      ]
     },
     "execution_count": 7,
     "metadata": {},
     "output_type": "execute_result"
    }
   ],
   "source": [
    "results.groupby(by='type').describe()"
   ]
  },
  {
   "cell_type": "code",
   "execution_count": 8,
   "id": "2dc708c8",
   "metadata": {},
   "outputs": [
    {
     "data": {
      "image/png": "[encoded data removed]",
      "text/plain": [
       "<Figure size 288x432 with 3 Axes>"
      ]
     },
     "metadata": {
      "needs_background": "light"
     },
     "output_type": "display_data"
    }
   ],
   "source": [
    "g = sns.FacetGrid(\n",
    "    results,\n",
    "    col='type',\n",
    "    col_wrap=1,\n",
    "    height=2,\n",
    "    aspect=2\n",
    ")\n",
    "\n",
    "g.map(\n",
    "    plt.hist, 'z_floor_grade',\n",
    "    range=[0, 20],\n",
    "    bins=40\n",
    ")\n",
    "\n",
    "g.set_axis_labels('z_floor_grade', 'Count')\n",
    "plt.tight_layout()"
   ]
  },
  {
   "cell_type": "markdown",
   "id": "03780a89",
   "metadata": {},
   "source": [
    "# The Bootstrap"
   ]
  },
  {
   "cell_type": "code",
   "execution_count": 9,
   "id": "23603201",
   "metadata": {},
   "outputs": [
    {
     "name": "stdout",
     "output_type": "stream",
     "text": [
      "Bootstrapping Statistics\n",
      "-----\n",
      "original: 3.6269999999999953\n",
      "bias : -0.0003334999999951016\n",
      "std: 0.0026669533911164995\n"
     ]
    }
   ],
   "source": [
    "results = []\n",
    "for nrepeat in range(1000):\n",
    "    sample = resample(df['z_floor_grade'])\n",
    "    results.append(sample.median())\n",
    "    \n",
    "results = pd.Series(results)\n",
    "\n",
    "print('Bootstrapping Statistics\\n-----')\n",
    "print('original: {}'.format(df['z_floor_grade'].median()))\n",
    "print('bias : {}'.format(results.mean() - df['z_floor_grade'].median()))\n",
    "print('std: {}'.format(results.std()))"
   ]
  },
  {
   "cell_type": "markdown",
   "id": "2a66a4b6",
   "metadata": {},
   "source": [
    "# Confidence Intervals"
   ]
  },
  {
   "cell_type": "code",
   "execution_count": 10,
   "id": "f0dd07d6",
   "metadata": {},
   "outputs": [
    {
     "name": "stdout",
     "output_type": "stream",
     "text": [
      "mean z_floor_grade: 4.26816539146086\n",
      "sample mean: 4.533777777777778\n"
     ]
    },
    {
     "data": {
      "image/png": "[encoded data removed]",
      "text/plain": [
       "<Figure size 400x300 with 1 Axes>"
      ]
     },
     "metadata": {},
     "output_type": "display_data"
    }
   ],
   "source": [
    "print('mean z_floor_grade:', df['z_floor_grade'].mean())\n",
    "np.random.seed(0)\n",
    "\n",
    "# create a sample of 20 loan income data\n",
    "sample20 = resample(\n",
    "    df['z_floor_grade'],\n",
    "    n_samples=20,\n",
    "    replace=False,\n",
    "    random_state=0\n",
    ")\n",
    "print('sample mean:', sample20.mean())\n",
    "\n",
    "results = []\n",
    "for nrepeat in range(500):\n",
    "    sample = resample(sample20)\n",
    "    results.append(sample.mean())\n",
    "results = pd.Series(results)\n",
    "\n",
    "confidence_interval = list(\n",
    "    results.quantile([0.05, 0.95])\n",
    ")\n",
    "\n",
    "ax = results.plot.hist(bins=30, figsize=(4, 3))\n",
    "ax.plot(confidence_interval, [55, 55], color='black')\n",
    "\n",
    "for x in confidence_interval:\n",
    "    ax.plot([x, x], [0, 65], color='black')\n",
    "    ax.text(\n",
    "        x, 70, f'{x:.2f}', \n",
    "        horizontalalignment='center', verticalalignment='center'\n",
    "    )\n",
    "    \n",
    "ax.text(\n",
    "    sum(confidence_interval) / 2, 60, '90% interval',\n",
    "    horizontalalignment='center', verticalalignment='center'\n",
    ")\n",
    "\n",
    "mean_height = results.mean()\n",
    "\n",
    "ax.plot(\n",
    "    [mean_height, mean_height], [0, 50],\n",
    "    color='black', linestyle='--'\n",
    ")\n",
    "ax.text(\n",
    "    mean_height, 10, f'Mean: {mean_height:.2f}',\n",
    "    bbox=dict(facecolor='white', edgecolor='white', alpha=0.5),\n",
    "    horizontalalignment='center', verticalalignment='center'\n",
    ")\n",
    "ax.set_ylabel('Counts')\n",
    "\n",
    "plt.tight_layout()"
   ]
  },
  {
   "cell_type": "code",
   "execution_count": 11,
   "id": "f0a0fed7",
   "metadata": {
    "scrolled": false
   },
   "outputs": [
    {
     "name": "stdout",
     "output_type": "stream",
     "text": [
      "mean z_floor_grade: 4.26816539146086\n",
      "sample mean: 4.533777777777778\n"
     ]
    },
    {
     "data": {
      "image/png": "[encoded data removed]",
      "text/plain": [
       "<Figure size 800x400 with 1 Axes>"
      ]
     },
     "metadata": {},
     "output_type": "display_data"
    }
   ],
   "source": [
    "print('mean z_floor_grade:', df['z_floor_grade'].mean())\n",
    "np.random.seed(0)\n",
    "\n",
    "sample20 = resample(\n",
    "    df['z_floor_grade'],\n",
    "    n_samples=20,\n",
    "    replace=False,\n",
    ")\n",
    "print('sample mean:', sample20.mean())\n",
    "\n",
    "results = []\n",
    "for nrepeat in range(500):\n",
    "    sample = resample(sample20)\n",
    "    results.append(sample.mean())\n",
    "results = pd.Series(results)\n",
    "\n",
    "confidence_interval = list(\n",
    "    results.quantile([0.05, 0.95])\n",
    ")\n",
    "ax = results.plot.hist(bins=30, figsize=(8, 4), color='tab:blue')\n",
    "ax.plot(confidence_interval, [55, 55], color='black')\n",
    "\n",
    "for x in confidence_interval:\n",
    "    ax.plot([x, x], [0, 60], color='black')\n",
    "    ax.text(\n",
    "        x, 70, f'{x:.2f}', \n",
    "        horizontalalignment='center', verticalalignment='center'\n",
    "    )\n",
    "ax.text(\n",
    "    7, 40, \n",
    "    f'90% CI\\n[{confidence_interval[0]:.2f}, {confidence_interval[1]:.2f}]',\n",
    "    fontsize='small')\n",
    "\n",
    "confidence_interval = list(\n",
    "    results.quantile([0.025, 0.975])\n",
    ")\n",
    "ax = results.plot.hist(bins=30, figsize=(8, 4), color='tab:blue')\n",
    "ax.plot(confidence_interval, [65, 65], color='black', linestyle='--')\n",
    "\n",
    "for x in confidence_interval:\n",
    "    ax.plot([x, x], [0, 70], color='black')\n",
    "ax.text(\n",
    "    7, 50,\n",
    "    f'95% CI\\n[{confidence_interval[0]:.2f}, {confidence_interval[1]:.2f}]',\n",
    "    fontsize='small')\n",
    "ax.text(\n",
    "    sum(confidence_interval) / 2, 53, '95 % interval',\n",
    "    horizontalalignment='center', verticalalignment='center')\n",
    "\n",
    "mean_height = results.mean()\n",
    "\n",
    "ax.plot(\n",
    "    [mean_height, mean_height], [0, 50],\n",
    "    color='black', linestyle='--'\n",
    ")\n",
    "ax.text(\n",
    "    mean_height, 10, f'Mean: {mean_height:.2f}',\n",
    "    bbox=dict(facecolor='white', edgecolor='white', alpha=0.5),\n",
    "    horizontalalignment='center', verticalalignment='center'\n",
    ")\n",
    "ax.set_ylabel('Counts')\n",
    "\n",
    "plt.tight_layout()"
   ]
  },
  {
   "cell_type": "markdown",
   "id": "9b59a980",
   "metadata": {},
   "source": [
    "# Normal Distribution\n",
    "## Standard Normal and QQ-Plots"
   ]
  },
  {
   "cell_type": "code",
   "execution_count": 12,
   "id": "91fbda6a",
   "metadata": {},
   "outputs": [
    {
     "data": {
      "image/png": "[encoded data removed]",
      "text/plain": [
       "<Figure size 400x400 with 1 Axes>"
      ]
     },
     "metadata": {},
     "output_type": "display_data"
    }
   ],
   "source": [
    "fig, ax = plt.subplots(figsize=(4, 4))\n",
    "\n",
    "norm_sample = stats.norm.rvs(size=100)\n",
    "stats.probplot(norm_sample, plot=ax)\n",
    "\n",
    "plt.tight_layout()"
   ]
  },
  {
   "cell_type": "markdown",
   "id": "f2b4bca7",
   "metadata": {},
   "source": [
    "# Long-Tailed Distributions"
   ]
  },
  {
   "cell_type": "code",
   "execution_count": 13,
   "id": "88b7c549",
   "metadata": {},
   "outputs": [
    {
     "data": {
      "image/png": "[encoded data removed]",
      "text/plain": [
       "<Figure size 400x400 with 1 Axes>"
      ]
     },
     "metadata": {},
     "output_type": "display_data"
    }
   ],
   "source": [
    "fig, ax = plt.subplots(figsize=(4, 4))\n",
    "\n",
    "dist = np.diff(\n",
    "    np.log(df.loc[df['z_floor_grade'] > 0, 'z_floor_grade'])\n",
    ")\n",
    "\n",
    "stats.probplot(dist, plot=ax)\n",
    "\n",
    "plt.tight_layout()"
   ]
  },
  {
   "cell_type": "markdown",
   "id": "65a9252b",
   "metadata": {},
   "source": [
    "# Binomial Distribution"
   ]
  },
  {
   "cell_type": "code",
   "execution_count": 14,
   "id": "c0bc8f9a",
   "metadata": {},
   "outputs": [
    {
     "name": "stdout",
     "output_type": "stream",
     "text": [
      "Probability mass function evaluated at k: 0.07289999999999992\n",
      "Cumulative distribution function evaluated at k: 0.99144\n"
     ]
    }
   ],
   "source": [
    "print('Probability mass function evaluated at k:', stats.binom.pmf(2, n=5, p=0.1))\n",
    "print('Cumulative distribution function evaluated at k:', stats.binom.cdf(2, n=5, p=0.1))"
   ]
  },
  {
   "cell_type": "markdown",
   "id": "862bca24",
   "metadata": {},
   "source": [
    "# Poisson and Related Distribution\n",
    "## Poisson Distributions"
   ]
  },
  {
   "cell_type": "code",
   "execution_count": 15,
   "id": "4e263fdc",
   "metadata": {},
   "outputs": [
    {
     "data": {
      "text/plain": [
       "<AxesSubplot:ylabel='Frequency'>"
      ]
     },
     "execution_count": 15,
     "metadata": {},
     "output_type": "execute_result"
    },
    {
     "data": {
      "image/png": "[encoded data removed]",
      "text/plain": [
       "<Figure size 640x480 with 1 Axes>"
      ]
     },
     "metadata": {},
     "output_type": "display_data"
    }
   ],
   "source": [
    "sample = stats.poisson.rvs(2, size=100)\n",
    "\n",
    "pd.Series(sample).plot.hist()"
   ]
  },
  {
   "cell_type": "code",
   "execution_count": 16,
   "id": "c51958e7",
   "metadata": {},
   "outputs": [
    {
     "data": {
      "text/plain": [
       "<AxesSubplot:ylabel='Frequency'>"
      ]
     },
     "execution_count": 16,
     "metadata": {},
     "output_type": "execute_result"
    },
    {
     "data": {
      "image/png": "[encoded data removed]",
      "text/plain": [
       "<Figure size 640x480 with 1 Axes>"
      ]
     },
     "metadata": {},
     "output_type": "display_data"
    }
   ],
   "source": [
    "sample = stats.expon.rvs(scale=5, size=100)\n",
    "\n",
    "pd.Series(sample).plot.hist()"
   ]
  },
  {
   "cell_type": "code",
   "execution_count": 17,
   "id": "84778a5f",
   "metadata": {},
   "outputs": [
    {
     "data": {
      "text/plain": [
       "<AxesSubplot:ylabel='Frequency'>"
      ]
     },
     "execution_count": 17,
     "metadata": {},
     "output_type": "execute_result"
    },
    {
     "data": {
      "image/png": "[encoded data removed]",
      "text/plain": [
       "<Figure size 640x480 with 1 Axes>"
      ]
     },
     "metadata": {},
     "output_type": "display_data"
    }
   ],
   "source": [
    "sample = stats.weibull_min.rvs(1.5, scale=5000, size=100)\n",
    "\n",
    "pd.Series(sample).plot.hist()"
   ]
  },
  {
   "cell_type": "code",
   "execution_count": null,
   "id": "9d404eab",
   "metadata": {},
   "outputs": [],
   "source": []
  }
 ],
 "metadata": {
  "kernelspec": {
   "display_name": "Python 3 (ipykernel)",
   "language": "python",
   "name": "python3"
  },
  "language_info": {
   "codemirror_mode": {
    "name": "ipython",
    "version": 3
   },
   "file_extension": ".py",
   "mimetype": "text/x-python",
   "name": "python",
   "nbconvert_exporter": "python",
   "pygments_lexer": "ipython3",
   "version": "3.8.13"
  }
 },
 "nbformat": 4,
 "nbformat_minor": 5
}
