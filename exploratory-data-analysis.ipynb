{
 "cells": [
  {
   "cell_type": "code",
   "execution_count": 1,
   "id": "ada87982",
   "metadata": {},
   "outputs": [],
   "source": [
    "# importing libraries\n",
    "import pandas as pd\n",
    "import numpy as np\n",
    "import matplotlib.pyplot as plt\n",
    "import seaborn as sns\n",
    "from scipy.stats import trim_mean\n",
    "import statsmodels.api as sm"
   ]
  },
  {
   "cell_type": "code",
   "execution_count": 2,
   "id": "185ac823",
   "metadata": {},
   "outputs": [
    {
     "name": "stdout",
     "output_type": "stream",
     "text": [
      "Python implementation: CPython\n",
      "Python version       : 3.8.13\n",
      "IPython version      : 8.4.0\n",
      "\n",
      "numpy     : 1.23.1\n",
      "pandas    : 1.4.3\n",
      "matplotlib: 3.5.2\n",
      "seaborn   : 0.11.2\n",
      "\n"
     ]
    }
   ],
   "source": [
    "# printing verions of Python modules and packages with **watermark** \n",
    "# documention for installing watermark: https://github.com/rasbt/watermark\n",
    "\n",
    "%reload_ext watermark\n",
    "%watermark -v -p numpy,pandas,matplotlib,seaborn"
   ]
  },
  {
   "cell_type": "code",
   "execution_count": 3,
   "id": "3586db2e",
   "metadata": {},
   "outputs": [
    {
     "name": "stdout",
     "output_type": "stream",
     "text": [
      "shape of data: (1083794, 16)\n",
      "CPU times: user 8.36 s, sys: 3.02 s, total: 11.4 s\n",
      "Wall time: 3min 55s\n"
     ]
    },
    {
     "data": {
      "text/html": [
       "<div>\n",
       "<style scoped>\n",
       "    .dataframe tbody tr th:only-of-type {\n",
       "        vertical-align: middle;\n",
       "    }\n",
       "\n",
       "    .dataframe tbody tr th {\n",
       "        vertical-align: top;\n",
       "    }\n",
       "\n",
       "    .dataframe thead th {\n",
       "        text-align: right;\n",
       "    }\n",
       "</style>\n",
       "<table border=\"1\" class=\"dataframe\">\n",
       "  <thead>\n",
       "    <tr style=\"text-align: right;\">\n",
       "      <th></th>\n",
       "      <th>the_geom</th>\n",
       "      <th>NAME</th>\n",
       "      <th>BIN</th>\n",
       "      <th>CNSTRCT_YR</th>\n",
       "      <th>LSTMODDATE</th>\n",
       "      <th>LSTSTATYPE</th>\n",
       "      <th>DOITT_ID</th>\n",
       "      <th>HEIGHTROOF</th>\n",
       "      <th>FEAT_CODE</th>\n",
       "      <th>GROUNDELEV</th>\n",
       "      <th>SHAPE_AREA</th>\n",
       "      <th>SHAPE_LEN</th>\n",
       "      <th>BASE_BBL</th>\n",
       "      <th>MPLUTO_BBL</th>\n",
       "      <th>GEOMSOURCE</th>\n",
       "      <th>GLOBALID</th>\n",
       "    </tr>\n",
       "  </thead>\n",
       "  <tbody>\n",
       "    <tr>\n",
       "      <th>0</th>\n",
       "      <td>MULTIPOLYGON (((-73.96664570466969 40.62599676...</td>\n",
       "      <td>NaN</td>\n",
       "      <td>3170958</td>\n",
       "      <td>1925.0</td>\n",
       "      <td>08/22/2017 12:00:00 AM</td>\n",
       "      <td>Constructed</td>\n",
       "      <td>96807</td>\n",
       "      <td>29.749853</td>\n",
       "      <td>2100</td>\n",
       "      <td>40.0</td>\n",
       "      <td>0</td>\n",
       "      <td>0</td>\n",
       "      <td>3065220021</td>\n",
       "      <td>3065220021</td>\n",
       "      <td>Photogramm</td>\n",
       "      <td>{31298F86-3088-4F53-B3DB-71A9EFA6FA1F}</td>\n",
       "    </tr>\n",
       "    <tr>\n",
       "      <th>1</th>\n",
       "      <td>MULTIPOLYGON (((-74.16790202462265 40.63936048...</td>\n",
       "      <td>NaN</td>\n",
       "      <td>5028452</td>\n",
       "      <td>1965.0</td>\n",
       "      <td>08/22/2017 12:00:00 AM</td>\n",
       "      <td>Constructed</td>\n",
       "      <td>326368</td>\n",
       "      <td>22.630000</td>\n",
       "      <td>2100</td>\n",
       "      <td>39.0</td>\n",
       "      <td>0</td>\n",
       "      <td>0</td>\n",
       "      <td>5012640036</td>\n",
       "      <td>5012640036</td>\n",
       "      <td>Photogramm</td>\n",
       "      <td>{F5F8CDA5-69E2-46F8-8F69-BA95C025B520}</td>\n",
       "    </tr>\n",
       "    <tr>\n",
       "      <th>2</th>\n",
       "      <td>MULTIPOLYGON (((-74.19510813278613 40.55610681...</td>\n",
       "      <td>NaN</td>\n",
       "      <td>5078368</td>\n",
       "      <td>1970.0</td>\n",
       "      <td>08/22/2017 12:00:00 AM</td>\n",
       "      <td>Constructed</td>\n",
       "      <td>746627</td>\n",
       "      <td>35.760000</td>\n",
       "      <td>2100</td>\n",
       "      <td>51.0</td>\n",
       "      <td>0</td>\n",
       "      <td>0</td>\n",
       "      <td>5060190091</td>\n",
       "      <td>5060190091</td>\n",
       "      <td>Photogramm</td>\n",
       "      <td>{9F644794-F72C-4582-9E5E-B337E2B97068}</td>\n",
       "    </tr>\n",
       "    <tr>\n",
       "      <th>3</th>\n",
       "      <td>MULTIPOLYGON (((-73.96113466505085 40.57743931...</td>\n",
       "      <td>NaN</td>\n",
       "      <td>3245111</td>\n",
       "      <td>1928.0</td>\n",
       "      <td>08/22/2017 12:00:00 AM</td>\n",
       "      <td>Constructed</td>\n",
       "      <td>786626</td>\n",
       "      <td>37.500000</td>\n",
       "      <td>2100</td>\n",
       "      <td>6.0</td>\n",
       "      <td>0</td>\n",
       "      <td>0</td>\n",
       "      <td>3086910048</td>\n",
       "      <td>3086910048</td>\n",
       "      <td>Photogramm</td>\n",
       "      <td>{F916B22D-E25B-44AE-9FA9-2A51191B9CDF}</td>\n",
       "    </tr>\n",
       "    <tr>\n",
       "      <th>4</th>\n",
       "      <td>MULTIPOLYGON (((-73.75421559146166 40.75591276...</td>\n",
       "      <td>NaN</td>\n",
       "      <td>4161096</td>\n",
       "      <td>1950.0</td>\n",
       "      <td>08/22/2017 12:00:00 AM</td>\n",
       "      <td>Constructed</td>\n",
       "      <td>746409</td>\n",
       "      <td>18.015113</td>\n",
       "      <td>2100</td>\n",
       "      <td>93.0</td>\n",
       "      <td>0</td>\n",
       "      <td>0</td>\n",
       "      <td>4075020005</td>\n",
       "      <td>4075020005</td>\n",
       "      <td>Photogramm</td>\n",
       "      <td>{525F2C24-616B-4F29-98A3-8FEA5D4B1A7D}</td>\n",
       "    </tr>\n",
       "  </tbody>\n",
       "</table>\n",
       "</div>"
      ],
      "text/plain": [
       "                                            the_geom NAME      BIN  \\\n",
       "0  MULTIPOLYGON (((-73.96664570466969 40.62599676...  NaN  3170958   \n",
       "1  MULTIPOLYGON (((-74.16790202462265 40.63936048...  NaN  5028452   \n",
       "2  MULTIPOLYGON (((-74.19510813278613 40.55610681...  NaN  5078368   \n",
       "3  MULTIPOLYGON (((-73.96113466505085 40.57743931...  NaN  3245111   \n",
       "4  MULTIPOLYGON (((-73.75421559146166 40.75591276...  NaN  4161096   \n",
       "\n",
       "   CNSTRCT_YR              LSTMODDATE   LSTSTATYPE  DOITT_ID  HEIGHTROOF  \\\n",
       "0      1925.0  08/22/2017 12:00:00 AM  Constructed     96807   29.749853   \n",
       "1      1965.0  08/22/2017 12:00:00 AM  Constructed    326368   22.630000   \n",
       "2      1970.0  08/22/2017 12:00:00 AM  Constructed    746627   35.760000   \n",
       "3      1928.0  08/22/2017 12:00:00 AM  Constructed    786626   37.500000   \n",
       "4      1950.0  08/22/2017 12:00:00 AM  Constructed    746409   18.015113   \n",
       "\n",
       "   FEAT_CODE  GROUNDELEV  SHAPE_AREA  SHAPE_LEN    BASE_BBL  MPLUTO_BBL  \\\n",
       "0       2100        40.0           0          0  3065220021  3065220021   \n",
       "1       2100        39.0           0          0  5012640036  5012640036   \n",
       "2       2100        51.0           0          0  5060190091  5060190091   \n",
       "3       2100         6.0           0          0  3086910048  3086910048   \n",
       "4       2100        93.0           0          0  4075020005  4075020005   \n",
       "\n",
       "   GEOMSOURCE                                GLOBALID  \n",
       "0  Photogramm  {31298F86-3088-4F53-B3DB-71A9EFA6FA1F}  \n",
       "1  Photogramm  {F5F8CDA5-69E2-46F8-8F69-BA95C025B520}  \n",
       "2  Photogramm  {9F644794-F72C-4582-9E5E-B337E2B97068}  \n",
       "3  Photogramm  {F916B22D-E25B-44AE-9FA9-2A51191B9CDF}  \n",
       "4  Photogramm  {525F2C24-616B-4F29-98A3-8FEA5D4B1A7D}  "
      ]
     },
     "execution_count": 3,
     "metadata": {},
     "output_type": "execute_result"
    }
   ],
   "source": [
    "%%time\n",
    "\n",
    "# path on the web\n",
    "path = 'https://data.cityofnewyork.us/api/views/qb5r-6dgf/rows.csv?accessType=DOWNLOAD'\n",
    "df = pd.read_csv(path)\n",
    "\n",
    "print('shape of data: {}'.format(df.shape))\n",
    "df.head()"
   ]
  },
  {
   "cell_type": "code",
   "execution_count": 4,
   "id": "e194cd01",
   "metadata": {},
   "outputs": [
    {
     "data": {
      "text/plain": [
       "pandas.core.frame.DataFrame"
      ]
     },
     "execution_count": 4,
     "metadata": {},
     "output_type": "execute_result"
    }
   ],
   "source": [
    "type(df)"
   ]
  },
  {
   "cell_type": "code",
   "execution_count": 5,
   "id": "10ef6cd4",
   "metadata": {},
   "outputs": [
    {
     "data": {
      "text/plain": [
       "pandas.core.series.Series"
      ]
     },
     "execution_count": 5,
     "metadata": {},
     "output_type": "execute_result"
    }
   ],
   "source": [
    "type(df['CNSTRCT_YR'])"
   ]
  },
  {
   "cell_type": "code",
   "execution_count": 6,
   "id": "b0202c95",
   "metadata": {},
   "outputs": [
    {
     "name": "stdout",
     "output_type": "stream",
     "text": [
      "<class 'pandas.core.frame.DataFrame'>\n",
      "RangeIndex: 1083794 entries, 0 to 1083793\n",
      "Data columns (total 16 columns):\n",
      " #   Column      Non-Null Count    Dtype  \n",
      "---  ------      --------------    -----  \n",
      " 0   the_geom    1083794 non-null  object \n",
      " 1   NAME        2253 non-null     object \n",
      " 2   BIN         1083794 non-null  int64  \n",
      " 3   CNSTRCT_YR  1073397 non-null  float64\n",
      " 4   LSTMODDATE  1083794 non-null  object \n",
      " 5   LSTSTATYPE  1083479 non-null  object \n",
      " 6   DOITT_ID    1083794 non-null  int64  \n",
      " 7   HEIGHTROOF  1081139 non-null  float64\n",
      " 8   FEAT_CODE   1083794 non-null  int64  \n",
      " 9   GROUNDELEV  1083230 non-null  float64\n",
      " 10  SHAPE_AREA  1083794 non-null  int64  \n",
      " 11  SHAPE_LEN   1083794 non-null  int64  \n",
      " 12  BASE_BBL    1083794 non-null  int64  \n",
      " 13  MPLUTO_BBL  1083794 non-null  int64  \n",
      " 14  GEOMSOURCE  1083477 non-null  object \n",
      " 15  GLOBALID    1083794 non-null  object \n",
      "dtypes: float64(3), int64(7), object(6)\n",
      "memory usage: 132.3+ MB\n"
     ]
    }
   ],
   "source": [
    "# summary of df\n",
    "df.info()"
   ]
  },
  {
   "cell_type": "code",
   "execution_count": 7,
   "id": "efc14ed3",
   "metadata": {},
   "outputs": [
    {
     "data": {
      "text/plain": [
       "the_geom            0\n",
       "NAME          1081541\n",
       "BIN                 0\n",
       "CNSTRCT_YR      10397\n",
       "LSTMODDATE          0\n",
       "LSTSTATYPE        315\n",
       "DOITT_ID            0\n",
       "HEIGHTROOF       2655\n",
       "FEAT_CODE           0\n",
       "GROUNDELEV        564\n",
       "SHAPE_AREA          0\n",
       "SHAPE_LEN           0\n",
       "BASE_BBL            0\n",
       "MPLUTO_BBL          0\n",
       "GEOMSOURCE        317\n",
       "GLOBALID            0\n",
       "dtype: int64"
      ]
     },
     "execution_count": 7,
     "metadata": {},
     "output_type": "execute_result"
    }
   ],
   "source": [
    "df.isnull().sum()"
   ]
  },
  {
   "cell_type": "code",
   "execution_count": 8,
   "id": "48daa081",
   "metadata": {},
   "outputs": [
    {
     "data": {
      "text/html": [
       "<div>\n",
       "<style scoped>\n",
       "    .dataframe tbody tr th:only-of-type {\n",
       "        vertical-align: middle;\n",
       "    }\n",
       "\n",
       "    .dataframe tbody tr th {\n",
       "        vertical-align: top;\n",
       "    }\n",
       "\n",
       "    .dataframe thead th {\n",
       "        text-align: right;\n",
       "    }\n",
       "</style>\n",
       "<table border=\"1\" class=\"dataframe\">\n",
       "  <thead>\n",
       "    <tr style=\"text-align: right;\">\n",
       "      <th></th>\n",
       "      <th>BIN</th>\n",
       "      <th>CNSTRCT_YR</th>\n",
       "      <th>DOITT_ID</th>\n",
       "      <th>HEIGHTROOF</th>\n",
       "      <th>FEAT_CODE</th>\n",
       "      <th>GROUNDELEV</th>\n",
       "      <th>SHAPE_AREA</th>\n",
       "      <th>SHAPE_LEN</th>\n",
       "      <th>BASE_BBL</th>\n",
       "      <th>MPLUTO_BBL</th>\n",
       "    </tr>\n",
       "  </thead>\n",
       "  <tbody>\n",
       "    <tr>\n",
       "      <th>count</th>\n",
       "      <td>1.083794e+06</td>\n",
       "      <td>1.073397e+06</td>\n",
       "      <td>1.083794e+06</td>\n",
       "      <td>1.081139e+06</td>\n",
       "      <td>1.083794e+06</td>\n",
       "      <td>1.083230e+06</td>\n",
       "      <td>1083794.0</td>\n",
       "      <td>1083794.0</td>\n",
       "      <td>1.083794e+06</td>\n",
       "      <td>1.083794e+06</td>\n",
       "    </tr>\n",
       "    <tr>\n",
       "      <th>mean</th>\n",
       "      <td>3.712884e+06</td>\n",
       "      <td>1.939602e+03</td>\n",
       "      <td>5.947852e+05</td>\n",
       "      <td>2.769068e+01</td>\n",
       "      <td>2.693847e+03</td>\n",
       "      <td>5.512086e+01</td>\n",
       "      <td>0.0</td>\n",
       "      <td>0.0</td>\n",
       "      <td>3.564096e+09</td>\n",
       "      <td>3.564096e+09</td>\n",
       "    </tr>\n",
       "    <tr>\n",
       "      <th>std</th>\n",
       "      <td>1.026702e+06</td>\n",
       "      <td>2.943843e+01</td>\n",
       "      <td>3.621236e+05</td>\n",
       "      <td>2.177047e+01</td>\n",
       "      <td>1.198875e+03</td>\n",
       "      <td>4.155021e+01</td>\n",
       "      <td>0.0</td>\n",
       "      <td>0.0</td>\n",
       "      <td>9.859022e+08</td>\n",
       "      <td>9.859022e+08</td>\n",
       "    </tr>\n",
       "    <tr>\n",
       "      <th>min</th>\n",
       "      <td>1.000002e+06</td>\n",
       "      <td>1.652000e+03</td>\n",
       "      <td>1.000000e+00</td>\n",
       "      <td>0.000000e+00</td>\n",
       "      <td>1.000000e+03</td>\n",
       "      <td>-1.600000e+01</td>\n",
       "      <td>0.0</td>\n",
       "      <td>0.0</td>\n",
       "      <td>1.000010e+09</td>\n",
       "      <td>1.000010e+09</td>\n",
       "    </tr>\n",
       "    <tr>\n",
       "      <th>25%</th>\n",
       "      <td>3.129658e+06</td>\n",
       "      <td>1.920000e+03</td>\n",
       "      <td>2.880562e+05</td>\n",
       "      <td>1.850000e+01</td>\n",
       "      <td>2.100000e+03</td>\n",
       "      <td>2.500000e+01</td>\n",
       "      <td>0.0</td>\n",
       "      <td>0.0</td>\n",
       "      <td>3.043360e+09</td>\n",
       "      <td>3.043360e+09</td>\n",
       "    </tr>\n",
       "    <tr>\n",
       "      <th>50%</th>\n",
       "      <td>4.067866e+06</td>\n",
       "      <td>1.930000e+03</td>\n",
       "      <td>5.763075e+05</td>\n",
       "      <td>2.612000e+01</td>\n",
       "      <td>2.100000e+03</td>\n",
       "      <td>4.600000e+01</td>\n",
       "      <td>0.0</td>\n",
       "      <td>0.0</td>\n",
       "      <td>4.019530e+09</td>\n",
       "      <td>4.019530e+09</td>\n",
       "    </tr>\n",
       "    <tr>\n",
       "      <th>75%</th>\n",
       "      <td>4.483420e+06</td>\n",
       "      <td>1.955000e+03</td>\n",
       "      <td>8.663708e+05</td>\n",
       "      <td>3.113000e+01</td>\n",
       "      <td>2.100000e+03</td>\n",
       "      <td>7.400000e+01</td>\n",
       "      <td>0.0</td>\n",
       "      <td>0.0</td>\n",
       "      <td>4.107010e+09</td>\n",
       "      <td>4.107010e+09</td>\n",
       "    </tr>\n",
       "    <tr>\n",
       "      <th>max</th>\n",
       "      <td>5.799523e+06</td>\n",
       "      <td>2.024000e+03</td>\n",
       "      <td>1.301600e+06</td>\n",
       "      <td>1.550000e+03</td>\n",
       "      <td>5.110000e+03</td>\n",
       "      <td>1.335000e+03</td>\n",
       "      <td>0.0</td>\n",
       "      <td>0.0</td>\n",
       "      <td>6.000000e+09</td>\n",
       "      <td>6.000000e+09</td>\n",
       "    </tr>\n",
       "  </tbody>\n",
       "</table>\n",
       "</div>"
      ],
      "text/plain": [
       "                BIN    CNSTRCT_YR      DOITT_ID    HEIGHTROOF     FEAT_CODE  \\\n",
       "count  1.083794e+06  1.073397e+06  1.083794e+06  1.081139e+06  1.083794e+06   \n",
       "mean   3.712884e+06  1.939602e+03  5.947852e+05  2.769068e+01  2.693847e+03   \n",
       "std    1.026702e+06  2.943843e+01  3.621236e+05  2.177047e+01  1.198875e+03   \n",
       "min    1.000002e+06  1.652000e+03  1.000000e+00  0.000000e+00  1.000000e+03   \n",
       "25%    3.129658e+06  1.920000e+03  2.880562e+05  1.850000e+01  2.100000e+03   \n",
       "50%    4.067866e+06  1.930000e+03  5.763075e+05  2.612000e+01  2.100000e+03   \n",
       "75%    4.483420e+06  1.955000e+03  8.663708e+05  3.113000e+01  2.100000e+03   \n",
       "max    5.799523e+06  2.024000e+03  1.301600e+06  1.550000e+03  5.110000e+03   \n",
       "\n",
       "         GROUNDELEV  SHAPE_AREA  SHAPE_LEN      BASE_BBL    MPLUTO_BBL  \n",
       "count  1.083230e+06   1083794.0  1083794.0  1.083794e+06  1.083794e+06  \n",
       "mean   5.512086e+01         0.0        0.0  3.564096e+09  3.564096e+09  \n",
       "std    4.155021e+01         0.0        0.0  9.859022e+08  9.859022e+08  \n",
       "min   -1.600000e+01         0.0        0.0  1.000010e+09  1.000010e+09  \n",
       "25%    2.500000e+01         0.0        0.0  3.043360e+09  3.043360e+09  \n",
       "50%    4.600000e+01         0.0        0.0  4.019530e+09  4.019530e+09  \n",
       "75%    7.400000e+01         0.0        0.0  4.107010e+09  4.107010e+09  \n",
       "max    1.335000e+03         0.0        0.0  6.000000e+09  6.000000e+09  "
      ]
     },
     "execution_count": 8,
     "metadata": {},
     "output_type": "execute_result"
    }
   ],
   "source": [
    "df.describe()"
   ]
  },
  {
   "cell_type": "code",
   "execution_count": 9,
   "id": "aecafba0",
   "metadata": {},
   "outputs": [
    {
     "data": {
      "text/html": [
       "<div>\n",
       "<style scoped>\n",
       "    .dataframe tbody tr th:only-of-type {\n",
       "        vertical-align: middle;\n",
       "    }\n",
       "\n",
       "    .dataframe tbody tr th {\n",
       "        vertical-align: top;\n",
       "    }\n",
       "\n",
       "    .dataframe thead th {\n",
       "        text-align: right;\n",
       "    }\n",
       "</style>\n",
       "<table border=\"1\" class=\"dataframe\">\n",
       "  <thead>\n",
       "    <tr style=\"text-align: right;\">\n",
       "      <th></th>\n",
       "      <th>the_geom</th>\n",
       "      <th>NAME</th>\n",
       "      <th>LSTMODDATE</th>\n",
       "      <th>LSTSTATYPE</th>\n",
       "      <th>GEOMSOURCE</th>\n",
       "      <th>GLOBALID</th>\n",
       "    </tr>\n",
       "  </thead>\n",
       "  <tbody>\n",
       "    <tr>\n",
       "      <th>count</th>\n",
       "      <td>1083794</td>\n",
       "      <td>2253</td>\n",
       "      <td>1083794</td>\n",
       "      <td>1083479</td>\n",
       "      <td>1083477</td>\n",
       "      <td>1083794</td>\n",
       "    </tr>\n",
       "    <tr>\n",
       "      <th>unique</th>\n",
       "      <td>1083794</td>\n",
       "      <td>1894</td>\n",
       "      <td>1758</td>\n",
       "      <td>13</td>\n",
       "      <td>3</td>\n",
       "      <td>1083794</td>\n",
       "    </tr>\n",
       "    <tr>\n",
       "      <th>top</th>\n",
       "      <td>MULTIPOLYGON (((-73.96664570466969 40.62599676...</td>\n",
       "      <td>Adler Place Town Houses</td>\n",
       "      <td>08/22/2017 12:00:00 AM</td>\n",
       "      <td>Constructed</td>\n",
       "      <td>Photogramm</td>\n",
       "      <td>{31298F86-3088-4F53-B3DB-71A9EFA6FA1F}</td>\n",
       "    </tr>\n",
       "    <tr>\n",
       "      <th>freq</th>\n",
       "      <td>1</td>\n",
       "      <td>52</td>\n",
       "      <td>800938</td>\n",
       "      <td>1081056</td>\n",
       "      <td>1012628</td>\n",
       "      <td>1</td>\n",
       "    </tr>\n",
       "  </tbody>\n",
       "</table>\n",
       "</div>"
      ],
      "text/plain": [
       "                                                 the_geom  \\\n",
       "count                                             1083794   \n",
       "unique                                            1083794   \n",
       "top     MULTIPOLYGON (((-73.96664570466969 40.62599676...   \n",
       "freq                                                    1   \n",
       "\n",
       "                           NAME              LSTMODDATE   LSTSTATYPE  \\\n",
       "count                      2253                 1083794      1083479   \n",
       "unique                     1894                    1758           13   \n",
       "top     Adler Place Town Houses  08/22/2017 12:00:00 AM  Constructed   \n",
       "freq                         52                  800938      1081056   \n",
       "\n",
       "        GEOMSOURCE                                GLOBALID  \n",
       "count      1083477                                 1083794  \n",
       "unique           3                                 1083794  \n",
       "top     Photogramm  {31298F86-3088-4F53-B3DB-71A9EFA6FA1F}  \n",
       "freq       1012628                                       1  "
      ]
     },
     "execution_count": 9,
     "metadata": {},
     "output_type": "execute_result"
    }
   ],
   "source": [
    "df.describe(include='object')"
   ]
  },
  {
   "cell_type": "markdown",
   "id": "e40f5ee6",
   "metadata": {},
   "source": [
    "# Estimates of Location"
   ]
  },
  {
   "cell_type": "code",
   "execution_count": 10,
   "id": "52070976",
   "metadata": {},
   "outputs": [
    {
     "data": {
      "text/plain": [
       "1073397"
      ]
     },
     "execution_count": 10,
     "metadata": {},
     "output_type": "execute_result"
    }
   ],
   "source": [
    "df['CNSTRCT_YR'].count()"
   ]
  },
  {
   "cell_type": "code",
   "execution_count": 11,
   "id": "895519b4",
   "metadata": {},
   "outputs": [
    {
     "name": "stdout",
     "output_type": "stream",
     "text": [
      "1939.6017018866273\n",
      "1930.0\n",
      "1652.0\n",
      "2024.0\n"
     ]
    }
   ],
   "source": [
    "print(df['CNSTRCT_YR'].mean())\n",
    "print(df['CNSTRCT_YR'].median())\n",
    "print(df['CNSTRCT_YR'].min())\n",
    "print(df['CNSTRCT_YR'].max())"
   ]
  },
  {
   "cell_type": "code",
   "execution_count": 12,
   "id": "20a24c24",
   "metadata": {},
   "outputs": [
    {
     "name": "stdout",
     "output_type": "stream",
     "text": [
      "1930.0\n",
      "0.25    1920.0\n",
      "0.50    1930.0\n",
      "0.75    1955.0\n",
      "Name: CNSTRCT_YR, dtype: float64\n"
     ]
    }
   ],
   "source": [
    "print(df['CNSTRCT_YR'].quantile(q=.5))\n",
    "print(df['CNSTRCT_YR'].quantile(q=[.25, .50, .75]))"
   ]
  },
  {
   "cell_type": "code",
   "execution_count": 13,
   "id": "07ce0338",
   "metadata": {},
   "outputs": [
    {
     "data": {
      "text/plain": [
       "count    1.073397e+06\n",
       "mean     1.939602e+03\n",
       "std      2.943843e+01\n",
       "min      1.652000e+03\n",
       "25%      1.920000e+03\n",
       "50%      1.930000e+03\n",
       "75%      1.955000e+03\n",
       "max      2.024000e+03\n",
       "Name: CNSTRCT_YR, dtype: float64"
      ]
     },
     "execution_count": 13,
     "metadata": {},
     "output_type": "execute_result"
    }
   ],
   "source": [
    "df['CNSTRCT_YR'].describe()"
   ]
  },
  {
   "cell_type": "code",
   "execution_count": 14,
   "id": "ac352327",
   "metadata": {},
   "outputs": [
    {
     "name": "stdout",
     "output_type": "stream",
     "text": [
      "29.438431190275487\n",
      "35.0\n",
      "22.239033277584028\n"
     ]
    }
   ],
   "source": [
    "print(df['CNSTRCT_YR'].std())\n",
    "print(df['CNSTRCT_YR'].quantile(0.75) - df['CNSTRCT_YR'].quantile(0.25))\n",
    "print(sm.robust.scale.mad(df['CNSTRCT_YR'].dropna()))"
   ]
  },
  {
   "cell_type": "code",
   "execution_count": 15,
   "id": "e1d17449",
   "metadata": {},
   "outputs": [
    {
     "data": {
      "image/png": "[encoded data removed]",
      "text/plain": [
       "<Figure size 432x288 with 1 Axes>"
      ]
     },
     "metadata": {
      "needs_background": "light"
     },
     "output_type": "display_data"
    }
   ],
   "source": [
    "fig, ax = plt.subplots(figsize=(6, 4))\n",
    "\n",
    "sns.boxplot(y=df['CNSTRCT_YR'], ax=ax)\n",
    "\n",
    "plt.tight_layout()"
   ]
  },
  {
   "cell_type": "code",
   "execution_count": 16,
   "id": "ec103fa7",
   "metadata": {},
   "outputs": [
    {
     "data": {
      "text/plain": [
       "(1919.84, 1934.72]     415403\n",
       "(1949.6, 1964.48]      153573\n",
       "(1934.72, 1949.6]      139253\n",
       "(1904.96, 1919.84]      91884\n",
       "(1994.24, 2009.12]      63906\n",
       "(1890.08, 1904.96]      63146\n",
       "(1964.48, 1979.36]      60651\n",
       "(1979.36, 1994.24]      50414\n",
       "(2009.12, 2024.0]       19986\n",
       "(1875.2, 1890.08]        7586\n",
       "(1860.32, 1875.2]        3054\n",
       "(1845.44, 1860.32]       2730\n",
       "(1830.56, 1845.44]       1144\n",
       "(1815.68, 1830.56]        387\n",
       "(1785.92, 1800.8]         216\n",
       "(1800.8, 1815.68]          36\n",
       "(1771.04, 1785.92]          6\n",
       "(1726.4, 1741.28]           5\n",
       "(1756.16, 1771.04]          4\n",
       "(1711.52, 1726.4]           4\n",
       "(1651.628, 1666.88]         3\n",
       "(1741.28, 1756.16]          2\n",
       "(1681.76, 1696.64]          2\n",
       "(1666.88, 1681.76]          1\n",
       "(1696.64, 1711.52]          1\n",
       "Name: CNSTRCT_YR, dtype: int64"
      ]
     },
     "execution_count": 16,
     "metadata": {},
     "output_type": "execute_result"
    }
   ],
   "source": [
    "years_binned = pd.cut(df['CNSTRCT_YR'], bins=25)\n",
    "\n",
    "years_binned.value_counts()"
   ]
  },
  {
   "cell_type": "code",
   "execution_count": 17,
   "id": "13e97d95",
   "metadata": {},
   "outputs": [
    {
     "data": {
      "image/png": "[encoded data removed]",
      "text/plain": [
       "<Figure size 432x288 with 1 Axes>"
      ]
     },
     "metadata": {
      "needs_background": "light"
     },
     "output_type": "display_data"
    }
   ],
   "source": [
    "fig, ax = plt.subplots(figsize=(6, 4))\n",
    "\n",
    "sns.histplot(df['CNSTRCT_YR'], bins=25, ax=ax)\n",
    "\n",
    "plt.tight_layout()"
   ]
  },
  {
   "cell_type": "code",
   "execution_count": 18,
   "id": "083b860f",
   "metadata": {},
   "outputs": [
    {
     "data": {
      "image/png": "[encoded data removed]",
      "text/plain": [
       "<Figure size 432x288 with 1 Axes>"
      ]
     },
     "metadata": {
      "needs_background": "light"
     },
     "output_type": "display_data"
    }
   ],
   "source": [
    "fig, ax = plt.subplots(figsize=(6, 4))\n",
    "\n",
    "sns.kdeplot(df['CNSTRCT_YR'], ax=ax)\n",
    "\n",
    "plt.tight_layout()"
   ]
  },
  {
   "cell_type": "code",
   "execution_count": 19,
   "id": "55df5662",
   "metadata": {},
   "outputs": [
    {
     "data": {
      "image/png": "[encoded data removed]",
      "text/plain": [
       "<Figure size 360x360 with 1 Axes>"
      ]
     },
     "metadata": {
      "needs_background": "light"
     },
     "output_type": "display_data"
    }
   ],
   "source": [
    "sns.displot(\n",
    "    df.loc[df['CNSTRCT_YR'] >= 2000, 'CNSTRCT_YR'],\n",
    "    kde=True\n",
    ")\n",
    "\n",
    "plt.tight_layout()"
   ]
  },
  {
   "cell_type": "code",
   "execution_count": 20,
   "id": "a5b14eaa",
   "metadata": {},
   "outputs": [
    {
     "data": {
      "text/plain": [
       "Constructed                 1081056\n",
       "Alteration                     1420\n",
       "Split                           330\n",
       "Marked for Construction         267\n",
       "Initialization                   97\n",
       "Merged                           87\n",
       "Marked for Demolition            68\n",
       "Correction                       62\n",
       "Investigate Construction         52\n",
       "Geometry                         17\n",
       "Demolition                       10\n",
       "Marked for construction           9\n",
       "Investigate Demolition            4\n",
       "Name: LSTSTATYPE, dtype: int64"
      ]
     },
     "execution_count": 20,
     "metadata": {},
     "output_type": "execute_result"
    }
   ],
   "source": [
    "df['LSTSTATYPE'].value_counts()"
   ]
  },
  {
   "cell_type": "code",
   "execution_count": 21,
   "id": "e8c39113",
   "metadata": {},
   "outputs": [
    {
     "data": {
      "text/plain": [
       "0    Constructed\n",
       "Name: LSTSTATYPE, dtype: object"
      ]
     },
     "execution_count": 21,
     "metadata": {},
     "output_type": "execute_result"
    }
   ],
   "source": [
    "df['LSTSTATYPE'].mode()"
   ]
  },
  {
   "cell_type": "code",
   "execution_count": 22,
   "id": "86d295e2",
   "metadata": {},
   "outputs": [
    {
     "data": {
      "text/plain": [
       "Constructed                 1081056\n",
       "Alteration                     1420\n",
       "Split                           330\n",
       "Marked for Construction         267\n",
       "Initialization                   97\n",
       "Merged                           87\n",
       "Marked for Demolition            68\n",
       "Correction                       62\n",
       "Investigate Construction         52\n",
       "Geometry                         17\n",
       "Demolition                       10\n",
       "Marked for construction           9\n",
       "Investigate Demolition            4\n",
       "Name: LSTSTATYPE, dtype: int64"
      ]
     },
     "execution_count": 22,
     "metadata": {},
     "output_type": "execute_result"
    }
   ],
   "source": [
    "df['LSTSTATYPE'].value_counts()"
   ]
  },
  {
   "cell_type": "code",
   "execution_count": 23,
   "id": "193ac1e7",
   "metadata": {},
   "outputs": [
    {
     "data": {
      "image/png": "[encoded data removed]",
      "text/plain": [
       "<Figure size 432x288 with 1 Axes>"
      ]
     },
     "metadata": {
      "needs_background": "light"
     },
     "output_type": "display_data"
    }
   ],
   "source": [
    "fig, ax = plt.subplots(figsize=(6, 4))\n",
    "\n",
    "bar_df = (\n",
    "    df\n",
    "    .loc[df['CNSTRCT_YR'].between(2014, 2023)]\n",
    "    .astype({'CNSTRCT_YR':'int32'})\n",
    "    .groupby(by='CNSTRCT_YR')['DOITT_ID']\n",
    "    .count()\n",
    "    .reset_index()\n",
    "    .rename(columns={'DOITT_ID':'count'})\n",
    ")\n",
    "\n",
    "\n",
    "sns.barplot(\n",
    "    x='CNSTRCT_YR',\n",
    "    y='count',\n",
    "    data=bar_df\n",
    ")\n",
    "\n",
    "plt.tight_layout()"
   ]
  },
  {
   "cell_type": "code",
   "execution_count": 27,
   "id": "47a81654",
   "metadata": {},
   "outputs": [
    {
     "data": {
      "image/png": "[encoded data removed]",
      "text/plain": [
       "<Figure size 432x288 with 2 Axes>"
      ]
     },
     "metadata": {
      "needs_background": "light"
     },
     "output_type": "display_data"
    }
   ],
   "source": [
    "fig, ax = plt.subplots(figsize=(6, 4))\n",
    "\n",
    "sns.heatmap(\n",
    "    df.drop(columns=['SHAPE_AREA', 'SHAPE_LEN'])\n",
    "        .corr(),\n",
    "    ax=ax,\n",
    "    annot=True\n",
    ")\n",
    "\n",
    "plt.tight_layout()"
   ]
  },
  {
   "cell_type": "code",
   "execution_count": 28,
   "id": "facd53fb",
   "metadata": {},
   "outputs": [
    {
     "data": {
      "image/png": "[encoded data removed]",
      "text/plain": [
       "<Figure size 432x288 with 1 Axes>"
      ]
     },
     "metadata": {
      "needs_background": "light"
     },
     "output_type": "display_data"
    }
   ],
   "source": [
    "fig, ax = plt.subplots(figsize=(6, 4))\n",
    "\n",
    "sns.scatterplot(\n",
    "    x=df['CNSTRCT_YR'],\n",
    "    y=df['HEIGHTROOF']\n",
    ")\n",
    "\n",
    "plt.tight_layout()"
   ]
  },
  {
   "cell_type": "code",
   "execution_count": 29,
   "id": "787daee7",
   "metadata": {},
   "outputs": [
    {
     "data": {
      "image/png": "[encoded data removed]",
      "text/plain": [
       "<Figure size 432x288 with 2 Axes>"
      ]
     },
     "metadata": {
      "needs_background": "light"
     },
     "output_type": "display_data"
    }
   ],
   "source": [
    "fig, ax = plt.subplots(figsize=(6, 4))\n",
    "\n",
    "hb = ax.hexbin(\n",
    "    x=df['CNSTRCT_YR'],\n",
    "    y=df['HEIGHTROOF'],\n",
    "    gridsize=20,\n",
    "    mincnt=1,\n",
    "    cmap='viridis'\n",
    ")\n",
    "\n",
    "cb = fig.colorbar(hb, ax=ax, label='COUNTS')\n",
    "ax.set_xlabel('CNSTRCT_YR')\n",
    "ax.set_ylabel('HEIGHTROOF')\n",
    "\n",
    "plt.tight_layout()"
   ]
  },
  {
   "cell_type": "code",
   "execution_count": null,
   "id": "2e50cb7c",
   "metadata": {},
   "outputs": [],
   "source": []
  }
 ],
 "metadata": {
  "kernelspec": {
   "display_name": "Python 3 (ipykernel)",
   "language": "python",
   "name": "python3"
  },
  "language_info": {
   "codemirror_mode": {
    "name": "ipython",
    "version": 3
   },
   "file_extension": ".py",
   "mimetype": "text/x-python",
   "name": "python",
   "nbconvert_exporter": "python",
   "pygments_lexer": "ipython3",
   "version": "3.8.13"
  }
 },
 "nbformat": 4,
 "nbformat_minor": 5
}
