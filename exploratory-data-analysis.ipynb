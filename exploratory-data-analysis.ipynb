{
 "cells": [
  {
   "cell_type": "markdown",
   "id": "a3776a47",
   "metadata": {},
   "source": [
    "# Exploratory Data Analysis"
   ]
  },
  {
   "cell_type": "code",
   "execution_count": 1,
   "id": "ada87982",
   "metadata": {},
   "outputs": [],
   "source": [
    "# importing libraries\n",
    "import pandas as pd\n",
    "import numpy as np\n",
    "import matplotlib.pyplot as plt\n",
    "import seaborn as sns\n",
    "from scipy.stats import trim_mean\n",
    "import statsmodels.api as sm\n",
    "from statsmodels import robust"
   ]
  },
  {
   "cell_type": "code",
   "execution_count": 2,
   "id": "185ac823",
   "metadata": {},
   "outputs": [
    {
     "name": "stdout",
     "output_type": "stream",
     "text": [
      "Python implementation: CPython\n",
      "Python version       : 3.8.13\n",
      "IPython version      : 8.4.0\n",
      "\n",
      "numpy     : 1.23.1\n",
      "pandas    : 1.4.3\n",
      "matplotlib: 3.5.2\n",
      "seaborn   : 0.11.2\n",
      "\n"
     ]
    }
   ],
   "source": [
    "# printing verions of Python modules and packages with **watermark** \n",
    "# documention for installing watermark: https://github.com/rasbt/watermark\n",
    "\n",
    "%reload_ext watermark\n",
    "%watermark -v -p numpy,pandas,matplotlib,seaborn"
   ]
  },
  {
   "cell_type": "markdown",
   "id": "b4c32c58",
   "metadata": {},
   "source": [
    "# Dataset: Building Elevation and Subgrade (BES) - Map\n",
    "Source: https://data.cityofnewyork.us/City-Government/Building-Elevation-and-Subgrade-BES-Map/nmzg-6q5g"
   ]
  },
  {
   "cell_type": "markdown",
   "id": "78f24d25",
   "metadata": {},
   "source": [
    "# Read In Data"
   ]
  },
  {
   "cell_type": "code",
   "execution_count": 3,
   "id": "3586db2e",
   "metadata": {},
   "outputs": [
    {
     "name": "stdout",
     "output_type": "stream",
     "text": [
      "shape of data: (861876, 26)\n",
      "CPU times: user 6.87 s, sys: 1.95 s, total: 8.82 s\n",
      "Wall time: 53.2 s\n"
     ]
    },
    {
     "data": {
      "text/html": [
       "<div>\n",
       "<style scoped>\n",
       "    .dataframe tbody tr th:only-of-type {\n",
       "        vertical-align: middle;\n",
       "    }\n",
       "\n",
       "    .dataframe tbody tr th {\n",
       "        vertical-align: top;\n",
       "    }\n",
       "\n",
       "    .dataframe thead th {\n",
       "        text-align: right;\n",
       "    }\n",
       "</style>\n",
       "<table border=\"1\" class=\"dataframe\">\n",
       "  <thead>\n",
       "    <tr style=\"text-align: right;\">\n",
       "      <th></th>\n",
       "      <th>the_geom</th>\n",
       "      <th>bin</th>\n",
       "      <th>bbl</th>\n",
       "      <th>borough</th>\n",
       "      <th>block</th>\n",
       "      <th>lot</th>\n",
       "      <th>address</th>\n",
       "      <th>z_grade</th>\n",
       "      <th>z_floor</th>\n",
       "      <th>subgrade</th>\n",
       "      <th>...</th>\n",
       "      <th>longitude</th>\n",
       "      <th>pluto_bbl</th>\n",
       "      <th>Council</th>\n",
       "      <th>BoroCD</th>\n",
       "      <th>CTLabel</th>\n",
       "      <th>BoroCT2020</th>\n",
       "      <th>NTA2020</th>\n",
       "      <th>NTAName</th>\n",
       "      <th>CDTA2020</th>\n",
       "      <th>CDTAName</th>\n",
       "    </tr>\n",
       "  </thead>\n",
       "  <tbody>\n",
       "    <tr>\n",
       "      <th>0</th>\n",
       "      <td>POINT (-74.22274561187417 40.52134422844183)</td>\n",
       "      <td>5128004</td>\n",
       "      <td>5075340353</td>\n",
       "      <td>5.0</td>\n",
       "      <td>7534.0</td>\n",
       "      <td>353</td>\n",
       "      <td>78 SAVO LOOP</td>\n",
       "      <td>29.428</td>\n",
       "      <td>32.332</td>\n",
       "      <td>N</td>\n",
       "      <td>...</td>\n",
       "      <td>-74.222746</td>\n",
       "      <td>5075340353</td>\n",
       "      <td>51</td>\n",
       "      <td>503</td>\n",
       "      <td>226.01</td>\n",
       "      <td>5022601</td>\n",
       "      <td>SI0304</td>\n",
       "      <td>Annadale-Huguenot-Prince's Bay-Woodrow</td>\n",
       "      <td>SI03</td>\n",
       "      <td>SI03 South Shore (CD 3 Approximation)</td>\n",
       "    </tr>\n",
       "    <tr>\n",
       "      <th>1</th>\n",
       "      <td>POINT (-74.24179250549321 40.52875316810818)</td>\n",
       "      <td>5155392</td>\n",
       "      <td>5075960125</td>\n",
       "      <td>5.0</td>\n",
       "      <td>7596.0</td>\n",
       "      <td>125</td>\n",
       "      <td>72 CHART LOOP</td>\n",
       "      <td>25.366</td>\n",
       "      <td>26.703</td>\n",
       "      <td>N</td>\n",
       "      <td>...</td>\n",
       "      <td>-74.241793</td>\n",
       "      <td>5075960125</td>\n",
       "      <td>51</td>\n",
       "      <td>503</td>\n",
       "      <td>226.02</td>\n",
       "      <td>5022602</td>\n",
       "      <td>SI0305</td>\n",
       "      <td>Tottenville-Charleston</td>\n",
       "      <td>SI03</td>\n",
       "      <td>SI03 South Shore (CD 3 Approximation)</td>\n",
       "    </tr>\n",
       "    <tr>\n",
       "      <th>2</th>\n",
       "      <td>POINT (-74.24109012652094 40.528883822921635)</td>\n",
       "      <td>5148808</td>\n",
       "      <td>5075960131</td>\n",
       "      <td>5.0</td>\n",
       "      <td>7596.0</td>\n",
       "      <td>131</td>\n",
       "      <td>40 TIDES LANE</td>\n",
       "      <td>36.172</td>\n",
       "      <td>38.902</td>\n",
       "      <td>N</td>\n",
       "      <td>...</td>\n",
       "      <td>-74.241090</td>\n",
       "      <td>5075960131</td>\n",
       "      <td>51</td>\n",
       "      <td>503</td>\n",
       "      <td>226.02</td>\n",
       "      <td>5022602</td>\n",
       "      <td>SI0305</td>\n",
       "      <td>Tottenville-Charleston</td>\n",
       "      <td>SI03</td>\n",
       "      <td>SI03 South Shore (CD 3 Approximation)</td>\n",
       "    </tr>\n",
       "    <tr>\n",
       "      <th>3</th>\n",
       "      <td>POINT (-74.24649640323727 40.507045708438184)</td>\n",
       "      <td>5088274</td>\n",
       "      <td>5079150042</td>\n",
       "      <td>5.0</td>\n",
       "      <td>7915.0</td>\n",
       "      <td>42</td>\n",
       "      <td>328 MAIN STREET</td>\n",
       "      <td>69.897</td>\n",
       "      <td>72.459</td>\n",
       "      <td>N</td>\n",
       "      <td>...</td>\n",
       "      <td>-74.246496</td>\n",
       "      <td>5079150042</td>\n",
       "      <td>51</td>\n",
       "      <td>503</td>\n",
       "      <td>244.01</td>\n",
       "      <td>5024401</td>\n",
       "      <td>SI0305</td>\n",
       "      <td>Tottenville-Charleston</td>\n",
       "      <td>SI03</td>\n",
       "      <td>SI03 South Shore (CD 3 Approximation)</td>\n",
       "    </tr>\n",
       "    <tr>\n",
       "      <th>4</th>\n",
       "      <td>POINT (-74.24198032271697 40.51005666426356)</td>\n",
       "      <td>5087850</td>\n",
       "      <td>5078680123</td>\n",
       "      <td>5.0</td>\n",
       "      <td>7868.0</td>\n",
       "      <td>123</td>\n",
       "      <td>309 SLEIGHT AVENUE</td>\n",
       "      <td>74.907</td>\n",
       "      <td>79.122</td>\n",
       "      <td>N</td>\n",
       "      <td>...</td>\n",
       "      <td>-74.241980</td>\n",
       "      <td>5078680123</td>\n",
       "      <td>51</td>\n",
       "      <td>503</td>\n",
       "      <td>244.01</td>\n",
       "      <td>5024401</td>\n",
       "      <td>SI0305</td>\n",
       "      <td>Tottenville-Charleston</td>\n",
       "      <td>SI03</td>\n",
       "      <td>SI03 South Shore (CD 3 Approximation)</td>\n",
       "    </tr>\n",
       "  </tbody>\n",
       "</table>\n",
       "<p>5 rows × 26 columns</p>\n",
       "</div>"
      ],
      "text/plain": [
       "                                        the_geom      bin         bbl  \\\n",
       "0   POINT (-74.22274561187417 40.52134422844183)  5128004  5075340353   \n",
       "1   POINT (-74.24179250549321 40.52875316810818)  5155392  5075960125   \n",
       "2  POINT (-74.24109012652094 40.528883822921635)  5148808  5075960131   \n",
       "3  POINT (-74.24649640323727 40.507045708438184)  5088274  5079150042   \n",
       "4   POINT (-74.24198032271697 40.51005666426356)  5087850  5078680123   \n",
       "\n",
       "   borough   block  lot             address  z_grade  z_floor subgrade  ...  \\\n",
       "0      5.0  7534.0  353        78 SAVO LOOP   29.428   32.332        N  ...   \n",
       "1      5.0  7596.0  125       72 CHART LOOP   25.366   26.703        N  ...   \n",
       "2      5.0  7596.0  131       40 TIDES LANE   36.172   38.902        N  ...   \n",
       "3      5.0  7915.0   42     328 MAIN STREET   69.897   72.459        N  ...   \n",
       "4      5.0  7868.0  123  309 SLEIGHT AVENUE   74.907   79.122        N  ...   \n",
       "\n",
       "   longitude   pluto_bbl Council  BoroCD  CTLabel  BoroCT2020  NTA2020  \\\n",
       "0 -74.222746  5075340353      51     503   226.01     5022601   SI0304   \n",
       "1 -74.241793  5075960125      51     503   226.02     5022602   SI0305   \n",
       "2 -74.241090  5075960131      51     503   226.02     5022602   SI0305   \n",
       "3 -74.246496  5079150042      51     503   244.01     5024401   SI0305   \n",
       "4 -74.241980  5078680123      51     503   244.01     5024401   SI0305   \n",
       "\n",
       "                                  NTAName  CDTA2020  \\\n",
       "0  Annadale-Huguenot-Prince's Bay-Woodrow      SI03   \n",
       "1                  Tottenville-Charleston      SI03   \n",
       "2                  Tottenville-Charleston      SI03   \n",
       "3                  Tottenville-Charleston      SI03   \n",
       "4                  Tottenville-Charleston      SI03   \n",
       "\n",
       "                                CDTAName  \n",
       "0  SI03 South Shore (CD 3 Approximation)  \n",
       "1  SI03 South Shore (CD 3 Approximation)  \n",
       "2  SI03 South Shore (CD 3 Approximation)  \n",
       "3  SI03 South Shore (CD 3 Approximation)  \n",
       "4  SI03 South Shore (CD 3 Approximation)  \n",
       "\n",
       "[5 rows x 26 columns]"
      ]
     },
     "execution_count": 3,
     "metadata": {},
     "output_type": "execute_result"
    }
   ],
   "source": [
    "%%time\n",
    "\n",
    "# path on the web\n",
    "path = 'https://data.cityofnewyork.us/api/views/bsin-59hv/rows.csv?date=20240317&accessType=DOWNLOAD'\n",
    "df = pd.read_csv(path, low_memory=False)\n",
    "\n",
    "print('shape of data: {}'.format(df.shape))\n",
    "df.head()"
   ]
  },
  {
   "cell_type": "markdown",
   "id": "9829a29d",
   "metadata": {},
   "source": [
    "Brief data cleaning, not required but I am familiar with this dataset."
   ]
  },
  {
   "cell_type": "code",
   "execution_count": 4,
   "id": "e194cd01",
   "metadata": {},
   "outputs": [
    {
     "data": {
      "text/plain": [
       "pandas.core.frame.DataFrame"
      ]
     },
     "execution_count": 4,
     "metadata": {},
     "output_type": "execute_result"
    }
   ],
   "source": [
    "type(df)"
   ]
  },
  {
   "cell_type": "code",
   "execution_count": 5,
   "id": "10ef6cd4",
   "metadata": {},
   "outputs": [
    {
     "data": {
      "text/plain": [
       "pandas.core.series.Series"
      ]
     },
     "execution_count": 5,
     "metadata": {},
     "output_type": "execute_result"
    }
   ],
   "source": [
    "type(df['bin'])"
   ]
  },
  {
   "cell_type": "code",
   "execution_count": 6,
   "id": "b0202c95",
   "metadata": {},
   "outputs": [
    {
     "name": "stdout",
     "output_type": "stream",
     "text": [
      "<class 'pandas.core.frame.DataFrame'>\n",
      "RangeIndex: 861876 entries, 0 to 861875\n",
      "Data columns (total 26 columns):\n",
      " #   Column      Non-Null Count   Dtype  \n",
      "---  ------      --------------   -----  \n",
      " 0   the_geom    861876 non-null  object \n",
      " 1   bin         861876 non-null  int64  \n",
      " 2   bbl         861876 non-null  int64  \n",
      " 3   borough     861875 non-null  float64\n",
      " 4   block       861875 non-null  float64\n",
      " 5   lot         861876 non-null  int64  \n",
      " 6   address     844875 non-null  object \n",
      " 7   z_grade     861876 non-null  float64\n",
      " 8   z_floor     861876 non-null  float64\n",
      " 9   subgrade    861876 non-null  object \n",
      " 10  notes1      861876 non-null  object \n",
      " 11  notes2      202458 non-null  object \n",
      " 12  notes3      472003 non-null  object \n",
      " 13  x           861876 non-null  float64\n",
      " 14  y           861876 non-null  float64\n",
      " 15  latitude    861876 non-null  float64\n",
      " 16  longitude   861876 non-null  float64\n",
      " 17  pluto_bbl   861876 non-null  int64  \n",
      " 18  Council     861876 non-null  int64  \n",
      " 19  BoroCD      861876 non-null  int64  \n",
      " 20  CTLabel     861876 non-null  float64\n",
      " 21  BoroCT2020  861876 non-null  int64  \n",
      " 22  NTA2020     861876 non-null  object \n",
      " 23  NTAName     861876 non-null  object \n",
      " 24  CDTA2020    861876 non-null  object \n",
      " 25  CDTAName    861876 non-null  object \n",
      "dtypes: float64(9), int64(7), object(10)\n",
      "memory usage: 171.0+ MB\n"
     ]
    }
   ],
   "source": [
    "# summary of df\n",
    "df.info()"
   ]
  },
  {
   "cell_type": "code",
   "execution_count": 7,
   "id": "efc14ed3",
   "metadata": {},
   "outputs": [
    {
     "data": {
      "text/plain": [
       "notes2        659418\n",
       "notes3        389873\n",
       "address        17001\n",
       "borough            1\n",
       "block              1\n",
       "the_geom           0\n",
       "longitude          0\n",
       "CDTA2020           0\n",
       "NTAName            0\n",
       "NTA2020            0\n",
       "BoroCT2020         0\n",
       "CTLabel            0\n",
       "BoroCD             0\n",
       "Council            0\n",
       "pluto_bbl          0\n",
       "x                  0\n",
       "latitude           0\n",
       "y                  0\n",
       "bin                0\n",
       "notes1             0\n",
       "dtype: int64"
      ]
     },
     "execution_count": 7,
     "metadata": {},
     "output_type": "execute_result"
    }
   ],
   "source": [
    "# count nulls per column\n",
    "(df\n",
    " .isnull()\n",
    " .sum()\n",
    " .sort_values(ascending=False)\n",
    " .head(20)\n",
    ")"
   ]
  },
  {
   "cell_type": "code",
   "execution_count": 8,
   "id": "48daa081",
   "metadata": {},
   "outputs": [
    {
     "data": {
      "text/html": [
       "<div>\n",
       "<style scoped>\n",
       "    .dataframe tbody tr th:only-of-type {\n",
       "        vertical-align: middle;\n",
       "    }\n",
       "\n",
       "    .dataframe tbody tr th {\n",
       "        vertical-align: top;\n",
       "    }\n",
       "\n",
       "    .dataframe thead th {\n",
       "        text-align: right;\n",
       "    }\n",
       "</style>\n",
       "<table border=\"1\" class=\"dataframe\">\n",
       "  <thead>\n",
       "    <tr style=\"text-align: right;\">\n",
       "      <th></th>\n",
       "      <th>bin</th>\n",
       "      <th>bbl</th>\n",
       "      <th>borough</th>\n",
       "      <th>block</th>\n",
       "      <th>lot</th>\n",
       "      <th>z_grade</th>\n",
       "      <th>z_floor</th>\n",
       "      <th>x</th>\n",
       "      <th>y</th>\n",
       "      <th>latitude</th>\n",
       "      <th>longitude</th>\n",
       "      <th>pluto_bbl</th>\n",
       "      <th>Council</th>\n",
       "      <th>BoroCD</th>\n",
       "      <th>CTLabel</th>\n",
       "      <th>BoroCT2020</th>\n",
       "    </tr>\n",
       "  </thead>\n",
       "  <tbody>\n",
       "    <tr>\n",
       "      <th>count</th>\n",
       "      <td>8.618760e+05</td>\n",
       "      <td>8.618760e+05</td>\n",
       "      <td>861875.000000</td>\n",
       "      <td>861875.000000</td>\n",
       "      <td>861876.000000</td>\n",
       "      <td>861876.000000</td>\n",
       "      <td>861876.000000</td>\n",
       "      <td>8.618760e+05</td>\n",
       "      <td>861876.000000</td>\n",
       "      <td>861876.000000</td>\n",
       "      <td>861876.000000</td>\n",
       "      <td>8.618760e+05</td>\n",
       "      <td>861876.000000</td>\n",
       "      <td>861876.000000</td>\n",
       "      <td>861876.000000</td>\n",
       "      <td>8.618760e+05</td>\n",
       "    </tr>\n",
       "    <tr>\n",
       "      <th>mean</th>\n",
       "      <td>3.610723e+06</td>\n",
       "      <td>3.517133e+09</td>\n",
       "      <td>3.464081</td>\n",
       "      <td>5310.378502</td>\n",
       "      <td>152.170014</td>\n",
       "      <td>53.915012</td>\n",
       "      <td>58.113704</td>\n",
       "      <td>1.006345e+06</td>\n",
       "      <td>191685.085757</td>\n",
       "      <td>40.692719</td>\n",
       "      <td>-73.920238</td>\n",
       "      <td>3.517133e+09</td>\n",
       "      <td>31.915001</td>\n",
       "      <td>354.588618</td>\n",
       "      <td>469.621224</td>\n",
       "      <td>3.511009e+06</td>\n",
       "    </tr>\n",
       "    <tr>\n",
       "      <th>std</th>\n",
       "      <td>1.053307e+06</td>\n",
       "      <td>1.034376e+09</td>\n",
       "      <td>1.026240</td>\n",
       "      <td>3725.973701</td>\n",
       "      <td>835.862079</td>\n",
       "      <td>42.192895</td>\n",
       "      <td>42.560673</td>\n",
       "      <td>3.288964e+04</td>\n",
       "      <td>30587.626141</td>\n",
       "      <td>0.083946</td>\n",
       "      <td>0.118567</td>\n",
       "      <td>1.034376e+09</td>\n",
       "      <td>13.311199</td>\n",
       "      <td>101.296600</td>\n",
       "      <td>384.551252</td>\n",
       "      <td>1.030888e+06</td>\n",
       "    </tr>\n",
       "    <tr>\n",
       "      <th>min</th>\n",
       "      <td>1.000003e+06</td>\n",
       "      <td>1.090961e+06</td>\n",
       "      <td>1.000000</td>\n",
       "      <td>1.000000</td>\n",
       "      <td>0.000000</td>\n",
       "      <td>-13.096000</td>\n",
       "      <td>0.000000</td>\n",
       "      <td>9.132653e+05</td>\n",
       "      <td>120977.993002</td>\n",
       "      <td>40.498478</td>\n",
       "      <td>-74.255266</td>\n",
       "      <td>1.090961e+06</td>\n",
       "      <td>1.000000</td>\n",
       "      <td>101.000000</td>\n",
       "      <td>1.000000</td>\n",
       "      <td>1.000201e+06</td>\n",
       "    </tr>\n",
       "    <tr>\n",
       "      <th>25%</th>\n",
       "      <td>3.089156e+06</td>\n",
       "      <td>3.032080e+09</td>\n",
       "      <td>3.000000</td>\n",
       "      <td>2295.000000</td>\n",
       "      <td>18.000000</td>\n",
       "      <td>23.304000</td>\n",
       "      <td>27.438000</td>\n",
       "      <td>9.893564e+05</td>\n",
       "      <td>168135.316338</td>\n",
       "      <td>40.628135</td>\n",
       "      <td>-73.981596</td>\n",
       "      <td>3.032080e+09</td>\n",
       "      <td>22.000000</td>\n",
       "      <td>306.000000</td>\n",
       "      <td>170.000000</td>\n",
       "      <td>3.027200e+06</td>\n",
       "    </tr>\n",
       "    <tr>\n",
       "      <th>50%</th>\n",
       "      <td>4.026428e+06</td>\n",
       "      <td>4.010520e+09</td>\n",
       "      <td>4.000000</td>\n",
       "      <td>4860.000000</td>\n",
       "      <td>38.000000</td>\n",
       "      <td>44.328000</td>\n",
       "      <td>48.370000</td>\n",
       "      <td>1.009009e+06</td>\n",
       "      <td>189533.841782</td>\n",
       "      <td>40.686807</td>\n",
       "      <td>-73.910686</td>\n",
       "      <td>4.010520e+09</td>\n",
       "      <td>31.000000</td>\n",
       "      <td>402.000000</td>\n",
       "      <td>353.010000</td>\n",
       "      <td>4.008800e+06</td>\n",
       "    </tr>\n",
       "    <tr>\n",
       "      <th>75%</th>\n",
       "      <td>4.259005e+06</td>\n",
       "      <td>4.105200e+09</td>\n",
       "      <td>4.000000</td>\n",
       "      <td>7498.000000</td>\n",
       "      <td>64.000000</td>\n",
       "      <td>72.709250</td>\n",
       "      <td>77.063000</td>\n",
       "      <td>1.030179e+06</td>\n",
       "      <td>211378.936954</td>\n",
       "      <td>40.746741</td>\n",
       "      <td>-73.834218</td>\n",
       "      <td>4.105200e+09</td>\n",
       "      <td>44.000000</td>\n",
       "      <td>412.000000</td>\n",
       "      <td>671.000000</td>\n",
       "      <td>4.092900e+06</td>\n",
       "    </tr>\n",
       "    <tr>\n",
       "      <th>max</th>\n",
       "      <td>5.799523e+06</td>\n",
       "      <td>6.000000e+09</td>\n",
       "      <td>5.000000</td>\n",
       "      <td>99999.000000</td>\n",
       "      <td>9999.000000</td>\n",
       "      <td>402.839000</td>\n",
       "      <td>404.397000</td>\n",
       "      <td>1.067283e+06</td>\n",
       "      <td>272622.861956</td>\n",
       "      <td>40.914923</td>\n",
       "      <td>-73.700369</td>\n",
       "      <td>6.000000e+09</td>\n",
       "      <td>51.000000</td>\n",
       "      <td>595.000000</td>\n",
       "      <td>1621.000000</td>\n",
       "      <td>5.032300e+06</td>\n",
       "    </tr>\n",
       "  </tbody>\n",
       "</table>\n",
       "</div>"
      ],
      "text/plain": [
       "                bin           bbl        borough          block  \\\n",
       "count  8.618760e+05  8.618760e+05  861875.000000  861875.000000   \n",
       "mean   3.610723e+06  3.517133e+09       3.464081    5310.378502   \n",
       "std    1.053307e+06  1.034376e+09       1.026240    3725.973701   \n",
       "min    1.000003e+06  1.090961e+06       1.000000       1.000000   \n",
       "25%    3.089156e+06  3.032080e+09       3.000000    2295.000000   \n",
       "50%    4.026428e+06  4.010520e+09       4.000000    4860.000000   \n",
       "75%    4.259005e+06  4.105200e+09       4.000000    7498.000000   \n",
       "max    5.799523e+06  6.000000e+09       5.000000   99999.000000   \n",
       "\n",
       "                 lot        z_grade        z_floor             x  \\\n",
       "count  861876.000000  861876.000000  861876.000000  8.618760e+05   \n",
       "mean      152.170014      53.915012      58.113704  1.006345e+06   \n",
       "std       835.862079      42.192895      42.560673  3.288964e+04   \n",
       "min         0.000000     -13.096000       0.000000  9.132653e+05   \n",
       "25%        18.000000      23.304000      27.438000  9.893564e+05   \n",
       "50%        38.000000      44.328000      48.370000  1.009009e+06   \n",
       "75%        64.000000      72.709250      77.063000  1.030179e+06   \n",
       "max      9999.000000     402.839000     404.397000  1.067283e+06   \n",
       "\n",
       "                   y       latitude      longitude     pluto_bbl  \\\n",
       "count  861876.000000  861876.000000  861876.000000  8.618760e+05   \n",
       "mean   191685.085757      40.692719     -73.920238  3.517133e+09   \n",
       "std     30587.626141       0.083946       0.118567  1.034376e+09   \n",
       "min    120977.993002      40.498478     -74.255266  1.090961e+06   \n",
       "25%    168135.316338      40.628135     -73.981596  3.032080e+09   \n",
       "50%    189533.841782      40.686807     -73.910686  4.010520e+09   \n",
       "75%    211378.936954      40.746741     -73.834218  4.105200e+09   \n",
       "max    272622.861956      40.914923     -73.700369  6.000000e+09   \n",
       "\n",
       "             Council         BoroCD        CTLabel    BoroCT2020  \n",
       "count  861876.000000  861876.000000  861876.000000  8.618760e+05  \n",
       "mean       31.915001     354.588618     469.621224  3.511009e+06  \n",
       "std        13.311199     101.296600     384.551252  1.030888e+06  \n",
       "min         1.000000     101.000000       1.000000  1.000201e+06  \n",
       "25%        22.000000     306.000000     170.000000  3.027200e+06  \n",
       "50%        31.000000     402.000000     353.010000  4.008800e+06  \n",
       "75%        44.000000     412.000000     671.000000  4.092900e+06  \n",
       "max        51.000000     595.000000    1621.000000  5.032300e+06  "
      ]
     },
     "execution_count": 8,
     "metadata": {},
     "output_type": "execute_result"
    }
   ],
   "source": [
    "# summary statistics\n",
    "df.describe()"
   ]
  },
  {
   "cell_type": "code",
   "execution_count": 9,
   "id": "aecafba0",
   "metadata": {},
   "outputs": [
    {
     "data": {
      "text/html": [
       "<div>\n",
       "<style scoped>\n",
       "    .dataframe tbody tr th:only-of-type {\n",
       "        vertical-align: middle;\n",
       "    }\n",
       "\n",
       "    .dataframe tbody tr th {\n",
       "        vertical-align: top;\n",
       "    }\n",
       "\n",
       "    .dataframe thead th {\n",
       "        text-align: right;\n",
       "    }\n",
       "</style>\n",
       "<table border=\"1\" class=\"dataframe\">\n",
       "  <thead>\n",
       "    <tr style=\"text-align: right;\">\n",
       "      <th></th>\n",
       "      <th>the_geom</th>\n",
       "      <th>address</th>\n",
       "      <th>subgrade</th>\n",
       "      <th>notes1</th>\n",
       "      <th>notes2</th>\n",
       "      <th>notes3</th>\n",
       "      <th>NTA2020</th>\n",
       "      <th>NTAName</th>\n",
       "      <th>CDTA2020</th>\n",
       "      <th>CDTAName</th>\n",
       "    </tr>\n",
       "  </thead>\n",
       "  <tbody>\n",
       "    <tr>\n",
       "      <th>count</th>\n",
       "      <td>861876</td>\n",
       "      <td>844875</td>\n",
       "      <td>861876</td>\n",
       "      <td>861876</td>\n",
       "      <td>202458</td>\n",
       "      <td>472003</td>\n",
       "      <td>861876</td>\n",
       "      <td>861876</td>\n",
       "      <td>861876</td>\n",
       "      <td>861876</td>\n",
       "    </tr>\n",
       "    <tr>\n",
       "      <th>unique</th>\n",
       "      <td>861876</td>\n",
       "      <td>796756</td>\n",
       "      <td>2</td>\n",
       "      <td>12</td>\n",
       "      <td>9</td>\n",
       "      <td>2</td>\n",
       "      <td>256</td>\n",
       "      <td>256</td>\n",
       "      <td>71</td>\n",
       "      <td>72</td>\n",
       "    </tr>\n",
       "    <tr>\n",
       "      <th>top</th>\n",
       "      <td>POINT (-74.22274561187417 40.52134422844183)</td>\n",
       "      <td>FINGERBOARD ROAD</td>\n",
       "      <td>Y</td>\n",
       "      <td>Property was Successfully Measured</td>\n",
       "      <td>Commercial, Industrial or other Non-Residentia...</td>\n",
       "      <td>Visible Door or Window in subgrade space</td>\n",
       "      <td>SI0302</td>\n",
       "      <td>Great Kills-Eltingville</td>\n",
       "      <td>SI03</td>\n",
       "      <td>SI03 South Shore (CD 3 Approximation)</td>\n",
       "    </tr>\n",
       "    <tr>\n",
       "      <th>freq</th>\n",
       "      <td>1</td>\n",
       "      <td>423</td>\n",
       "      <td>472003</td>\n",
       "      <td>646782</td>\n",
       "      <td>112354</td>\n",
       "      <td>310268</td>\n",
       "      <td>16194</td>\n",
       "      <td>16194</td>\n",
       "      <td>48095</td>\n",
       "      <td>48095</td>\n",
       "    </tr>\n",
       "  </tbody>\n",
       "</table>\n",
       "</div>"
      ],
      "text/plain": [
       "                                            the_geom           address  \\\n",
       "count                                         861876            844875   \n",
       "unique                                        861876            796756   \n",
       "top     POINT (-74.22274561187417 40.52134422844183)  FINGERBOARD ROAD   \n",
       "freq                                               1               423   \n",
       "\n",
       "       subgrade                              notes1  \\\n",
       "count    861876                              861876   \n",
       "unique        2                                  12   \n",
       "top           Y  Property was Successfully Measured   \n",
       "freq     472003                              646782   \n",
       "\n",
       "                                                   notes2  \\\n",
       "count                                              202458   \n",
       "unique                                                  9   \n",
       "top     Commercial, Industrial or other Non-Residentia...   \n",
       "freq                                               112354   \n",
       "\n",
       "                                          notes3 NTA2020  \\\n",
       "count                                     472003  861876   \n",
       "unique                                         2     256   \n",
       "top     Visible Door or Window in subgrade space  SI0302   \n",
       "freq                                      310268   16194   \n",
       "\n",
       "                        NTAName CDTA2020  \\\n",
       "count                    861876   861876   \n",
       "unique                      256       71   \n",
       "top     Great Kills-Eltingville     SI03   \n",
       "freq                      16194    48095   \n",
       "\n",
       "                                     CDTAName  \n",
       "count                                  861876  \n",
       "unique                                     72  \n",
       "top     SI03 South Shore (CD 3 Approximation)  \n",
       "freq                                    48095  "
      ]
     },
     "execution_count": 9,
     "metadata": {},
     "output_type": "execute_result"
    }
   ],
   "source": [
    "# summary statistics for string columns\n",
    "df.describe(include='object')"
   ]
  },
  {
   "cell_type": "code",
   "execution_count": 10,
   "id": "713de50f",
   "metadata": {},
   "outputs": [
    {
     "data": {
      "text/html": [
       "<div>\n",
       "<style scoped>\n",
       "    .dataframe tbody tr th:only-of-type {\n",
       "        vertical-align: middle;\n",
       "    }\n",
       "\n",
       "    .dataframe tbody tr th {\n",
       "        vertical-align: top;\n",
       "    }\n",
       "\n",
       "    .dataframe thead th {\n",
       "        text-align: right;\n",
       "    }\n",
       "</style>\n",
       "<table border=\"1\" class=\"dataframe\">\n",
       "  <thead>\n",
       "    <tr style=\"text-align: right;\">\n",
       "      <th></th>\n",
       "      <th>z_floor</th>\n",
       "      <th>z_grade</th>\n",
       "    </tr>\n",
       "  </thead>\n",
       "  <tbody>\n",
       "    <tr>\n",
       "      <th>count</th>\n",
       "      <td>861876.000000</td>\n",
       "      <td>861876.000000</td>\n",
       "    </tr>\n",
       "    <tr>\n",
       "      <th>mean</th>\n",
       "      <td>58.113704</td>\n",
       "      <td>53.915012</td>\n",
       "    </tr>\n",
       "    <tr>\n",
       "      <th>std</th>\n",
       "      <td>42.560673</td>\n",
       "      <td>42.192895</td>\n",
       "    </tr>\n",
       "    <tr>\n",
       "      <th>min</th>\n",
       "      <td>0.000000</td>\n",
       "      <td>-13.096000</td>\n",
       "    </tr>\n",
       "    <tr>\n",
       "      <th>25%</th>\n",
       "      <td>27.438000</td>\n",
       "      <td>23.304000</td>\n",
       "    </tr>\n",
       "    <tr>\n",
       "      <th>50%</th>\n",
       "      <td>48.370000</td>\n",
       "      <td>44.328000</td>\n",
       "    </tr>\n",
       "    <tr>\n",
       "      <th>75%</th>\n",
       "      <td>77.063000</td>\n",
       "      <td>72.709250</td>\n",
       "    </tr>\n",
       "    <tr>\n",
       "      <th>max</th>\n",
       "      <td>404.397000</td>\n",
       "      <td>402.839000</td>\n",
       "    </tr>\n",
       "  </tbody>\n",
       "</table>\n",
       "</div>"
      ],
      "text/plain": [
       "             z_floor        z_grade\n",
       "count  861876.000000  861876.000000\n",
       "mean       58.113704      53.915012\n",
       "std        42.560673      42.192895\n",
       "min         0.000000     -13.096000\n",
       "25%        27.438000      23.304000\n",
       "50%        48.370000      44.328000\n",
       "75%        77.063000      72.709250\n",
       "max       404.397000     402.839000"
      ]
     },
     "execution_count": 10,
     "metadata": {},
     "output_type": "execute_result"
    }
   ],
   "source": [
    "# desired columns\n",
    "df.loc[:, ['z_floor', 'z_grade']].describe()"
   ]
  },
  {
   "cell_type": "code",
   "execution_count": 11,
   "id": "f7d92ca5",
   "metadata": {},
   "outputs": [
    {
     "data": {
      "text/plain": [
       "14038"
      ]
     },
     "execution_count": 11,
     "metadata": {},
     "output_type": "execute_result"
    }
   ],
   "source": [
    "# count zero\n",
    "df.loc[df['z_floor'] == 0].shape[0]"
   ]
  },
  {
   "cell_type": "code",
   "execution_count": 12,
   "id": "7d1de324",
   "metadata": {},
   "outputs": [
    {
     "data": {
      "text/plain": [
       "14039"
      ]
     },
     "execution_count": 12,
     "metadata": {},
     "output_type": "execute_result"
    }
   ],
   "source": [
    "# count zero\n",
    "df.loc[df['z_grade'] == 0].shape[0]"
   ]
  },
  {
   "cell_type": "markdown",
   "id": "5c84bd09",
   "metadata": {},
   "source": [
    "Per user guide, replace values of zero with nans."
   ]
  },
  {
   "cell_type": "code",
   "execution_count": 13,
   "id": "2cea5f9b",
   "metadata": {},
   "outputs": [
    {
     "data": {
      "text/html": [
       "<div>\n",
       "<style scoped>\n",
       "    .dataframe tbody tr th:only-of-type {\n",
       "        vertical-align: middle;\n",
       "    }\n",
       "\n",
       "    .dataframe tbody tr th {\n",
       "        vertical-align: top;\n",
       "    }\n",
       "\n",
       "    .dataframe thead th {\n",
       "        text-align: right;\n",
       "    }\n",
       "</style>\n",
       "<table border=\"1\" class=\"dataframe\">\n",
       "  <thead>\n",
       "    <tr style=\"text-align: right;\">\n",
       "      <th></th>\n",
       "      <th>z_grade</th>\n",
       "      <th>z_floor</th>\n",
       "    </tr>\n",
       "  </thead>\n",
       "  <tbody>\n",
       "    <tr>\n",
       "      <th>count</th>\n",
       "      <td>847837.000000</td>\n",
       "      <td>847838.000000</td>\n",
       "    </tr>\n",
       "    <tr>\n",
       "      <th>mean</th>\n",
       "      <td>54.807770</td>\n",
       "      <td>59.075916</td>\n",
       "    </tr>\n",
       "    <tr>\n",
       "      <th>std</th>\n",
       "      <td>41.961752</td>\n",
       "      <td>42.244047</td>\n",
       "    </tr>\n",
       "    <tr>\n",
       "      <th>min</th>\n",
       "      <td>-13.096000</td>\n",
       "      <td>0.703000</td>\n",
       "    </tr>\n",
       "    <tr>\n",
       "      <th>25%</th>\n",
       "      <td>24.228000</td>\n",
       "      <td>28.361000</td>\n",
       "    </tr>\n",
       "    <tr>\n",
       "      <th>50%</th>\n",
       "      <td>45.095000</td>\n",
       "      <td>49.224000</td>\n",
       "    </tr>\n",
       "    <tr>\n",
       "      <th>75%</th>\n",
       "      <td>73.343000</td>\n",
       "      <td>77.704750</td>\n",
       "    </tr>\n",
       "    <tr>\n",
       "      <th>max</th>\n",
       "      <td>402.839000</td>\n",
       "      <td>404.397000</td>\n",
       "    </tr>\n",
       "  </tbody>\n",
       "</table>\n",
       "</div>"
      ],
      "text/plain": [
       "             z_grade        z_floor\n",
       "count  847837.000000  847838.000000\n",
       "mean       54.807770      59.075916\n",
       "std        41.961752      42.244047\n",
       "min       -13.096000       0.703000\n",
       "25%        24.228000      28.361000\n",
       "50%        45.095000      49.224000\n",
       "75%        73.343000      77.704750\n",
       "max       402.839000     404.397000"
      ]
     },
     "execution_count": 13,
     "metadata": {},
     "output_type": "execute_result"
    }
   ],
   "source": [
    "df.loc[df['z_grade'] == 0, 'z_grade'] = np.nan\n",
    "df.loc[df['z_floor'] == 0, 'z_floor'] = np.nan\n",
    "\n",
    "df.loc[:, ['z_grade', 'z_floor']].describe()"
   ]
  },
  {
   "cell_type": "code",
   "execution_count": 14,
   "id": "497256cb",
   "metadata": {},
   "outputs": [
    {
     "data": {
      "text/plain": [
       "count    847837.000000\n",
       "mean          4.268165\n",
       "std           3.087395\n",
       "min         -50.487000\n",
       "25%           2.015000\n",
       "50%           3.627000\n",
       "75%           6.571000\n",
       "max          94.440000\n",
       "Name: z_floor_grade, dtype: float64"
      ]
     },
     "execution_count": 14,
     "metadata": {},
     "output_type": "execute_result"
    }
   ],
   "source": [
    "# calculate building grade to floor height\n",
    "df = df.assign(z_floor_grade=df['z_floor'] - df['z_grade'])\n",
    "\n",
    "df['z_floor_grade'].describe()"
   ]
  },
  {
   "cell_type": "markdown",
   "id": "e40f5ee6",
   "metadata": {},
   "source": [
    "# Estimates of Location\n",
    "Examine the grade to floor height per building."
   ]
  },
  {
   "cell_type": "code",
   "execution_count": 15,
   "id": "bff8676e",
   "metadata": {},
   "outputs": [
    {
     "name": "stdout",
     "output_type": "stream",
     "text": [
      "number of rows: 861,876\n"
     ]
    }
   ],
   "source": [
    "value = df['z_floor_grade'].shape[0]\n",
    "print('number of rows: {:,}'.format(value))"
   ]
  },
  {
   "cell_type": "code",
   "execution_count": 16,
   "id": "52070976",
   "metadata": {},
   "outputs": [
    {
     "name": "stdout",
     "output_type": "stream",
     "text": [
      "number of non-null rows: 847,837\n"
     ]
    }
   ],
   "source": [
    "value = df['z_floor_grade'].count()\n",
    "print('number of non-null rows: {:,}'.format(value))"
   ]
  },
  {
   "cell_type": "code",
   "execution_count": 17,
   "id": "7bcfc847",
   "metadata": {},
   "outputs": [
    {
     "name": "stdout",
     "output_type": "stream",
     "text": [
      "min: -50.48700000000001\n",
      "max: 94.43999999999998\n"
     ]
    }
   ],
   "source": [
    "print('min:', df['z_floor_grade'].min())\n",
    "print('max:', df['z_floor_grade'].max())"
   ]
  },
  {
   "cell_type": "code",
   "execution_count": 18,
   "id": "895519b4",
   "metadata": {},
   "outputs": [
    {
     "name": "stdout",
     "output_type": "stream",
     "text": [
      "mean: 4.268165391460859\n",
      "trim mean: 4.152361341954047\n"
     ]
    }
   ],
   "source": [
    "print('mean:', df['z_floor_grade'].mean())\n",
    "print('trim mean:', trim_mean(df['z_floor_grade'], .1))"
   ]
  },
  {
   "cell_type": "code",
   "execution_count": 19,
   "id": "3221757d",
   "metadata": {},
   "outputs": [
    {
     "name": "stdout",
     "output_type": "stream",
     "text": [
      "median: 3.6269999999999953\n"
     ]
    }
   ],
   "source": [
    "print('median:', df['z_floor_grade'].median())"
   ]
  },
  {
   "cell_type": "code",
   "execution_count": 20,
   "id": "aae1d6af",
   "metadata": {},
   "outputs": [
    {
     "data": {
      "text/html": [
       "<div>\n",
       "<style scoped>\n",
       "    .dataframe tbody tr th:only-of-type {\n",
       "        vertical-align: middle;\n",
       "    }\n",
       "\n",
       "    .dataframe tbody tr th {\n",
       "        vertical-align: top;\n",
       "    }\n",
       "\n",
       "    .dataframe thead th {\n",
       "        text-align: right;\n",
       "    }\n",
       "</style>\n",
       "<table border=\"1\" class=\"dataframe\">\n",
       "  <thead>\n",
       "    <tr style=\"text-align: right;\">\n",
       "      <th></th>\n",
       "      <th>NTAName</th>\n",
       "      <th>count</th>\n",
       "      <th>z_floor_grade_mean</th>\n",
       "    </tr>\n",
       "  </thead>\n",
       "  <tbody>\n",
       "    <tr>\n",
       "      <th>0</th>\n",
       "      <td>Allerton</td>\n",
       "      <td>1662</td>\n",
       "      <td>5.098075</td>\n",
       "    </tr>\n",
       "    <tr>\n",
       "      <th>1</th>\n",
       "      <td>Alley Pond Park</td>\n",
       "      <td>7</td>\n",
       "      <td>2.664000</td>\n",
       "    </tr>\n",
       "    <tr>\n",
       "      <th>2</th>\n",
       "      <td>Annadale-Huguenot-Prince's Bay-Woodrow</td>\n",
       "      <td>11386</td>\n",
       "      <td>4.735034</td>\n",
       "    </tr>\n",
       "    <tr>\n",
       "      <th>3</th>\n",
       "      <td>Arden Heights-Rossville</td>\n",
       "      <td>9250</td>\n",
       "      <td>3.823133</td>\n",
       "    </tr>\n",
       "    <tr>\n",
       "      <th>4</th>\n",
       "      <td>Astoria (Central)</td>\n",
       "      <td>4283</td>\n",
       "      <td>4.041902</td>\n",
       "    </tr>\n",
       "  </tbody>\n",
       "</table>\n",
       "</div>"
      ],
      "text/plain": [
       "                                  NTAName  count  z_floor_grade_mean\n",
       "0                                Allerton   1662            5.098075\n",
       "1                         Alley Pond Park      7            2.664000\n",
       "2  Annadale-Huguenot-Prince's Bay-Woodrow  11386            4.735034\n",
       "3                 Arden Heights-Rossville   9250            3.823133\n",
       "4                       Astoria (Central)   4283            4.041902"
      ]
     },
     "execution_count": 20,
     "metadata": {},
     "output_type": "execute_result"
    }
   ],
   "source": [
    "mean_df = (\n",
    "    df\n",
    "    .groupby(by='NTAName')['z_floor_grade']\n",
    "    .mean()\n",
    "    .dropna()\n",
    "    .reset_index()\n",
    "    .rename(columns={'z_floor_grade':'z_floor_grade_mean'})\n",
    ")\n",
    "\n",
    "count_df = (\n",
    "    df\n",
    "    .groupby(by='NTAName')['bin']\n",
    "    .count()\n",
    "    .dropna()\n",
    "    .reset_index()\n",
    "    .rename(columns={'bin':'count'})\n",
    ")\n",
    "\n",
    "merged_df = count_df.merge(mean_df, on='NTAName')\n",
    "\n",
    "merged_df.head()"
   ]
  },
  {
   "cell_type": "code",
   "execution_count": 21,
   "id": "adf25b7a",
   "metadata": {},
   "outputs": [
    {
     "name": "stdout",
     "output_type": "stream",
     "text": [
      "weighted mean by count of buildings in NTA: 4.264249090981945\n"
     ]
    }
   ],
   "source": [
    "weighted_mean = np.average(\n",
    "    merged_df['z_floor_grade_mean'],\n",
    "    weights=merged_df['count']\n",
    ")\n",
    "\n",
    "print('weighted mean by count of buildings in NTA: {}'.format(weighted_mean))"
   ]
  },
  {
   "cell_type": "markdown",
   "id": "023ad451",
   "metadata": {},
   "source": [
    "# Estimates of Variability"
   ]
  },
  {
   "cell_type": "code",
   "execution_count": 22,
   "id": "60570ef7",
   "metadata": {},
   "outputs": [
    {
     "name": "stdout",
     "output_type": "stream",
     "text": [
      "standard deviation: 3.0873948629168595\n"
     ]
    }
   ],
   "source": [
    "print('standard deviation:', df['z_floor_grade'].std())"
   ]
  },
  {
   "cell_type": "code",
   "execution_count": 23,
   "id": "53c0ecaf",
   "metadata": {},
   "outputs": [
    {
     "name": "stdout",
     "output_type": "stream",
     "text": [
      "interquartile range: 4.556000000000001\n"
     ]
    }
   ],
   "source": [
    "print('interquartile range:', df['z_floor_grade'].quantile(0.75) - df['z_floor_grade'].quantile(0.25))"
   ]
  },
  {
   "cell_type": "code",
   "execution_count": 24,
   "id": "d8de2881",
   "metadata": {},
   "outputs": [
    {
     "name": "stdout",
     "output_type": "stream",
     "text": [
      "median absolute deviation: 3.1905599742240622\n"
     ]
    }
   ],
   "source": [
    "print('median absolute deviation:', robust.scale.mad(df['z_floor_grade'].dropna()))"
   ]
  },
  {
   "cell_type": "markdown",
   "id": "c63a36d9",
   "metadata": {},
   "source": [
    "# Percentiles and Boxplots"
   ]
  },
  {
   "cell_type": "code",
   "execution_count": 25,
   "id": "20a24c24",
   "metadata": {},
   "outputs": [
    {
     "name": "stdout",
     "output_type": "stream",
     "text": [
      "0.25    2.015\n",
      "0.50    3.627\n",
      "0.75    6.571\n",
      "Name: z_floor_grade, dtype: float64\n"
     ]
    }
   ],
   "source": [
    "# quantiles\n",
    "print(df['z_floor_grade'].quantile(q=[.25, .50, .75]))"
   ]
  },
  {
   "cell_type": "code",
   "execution_count": 26,
   "id": "07ce0338",
   "metadata": {},
   "outputs": [
    {
     "data": {
      "text/plain": [
       "count    847837.000000\n",
       "mean          4.268165\n",
       "std           3.087395\n",
       "min         -50.487000\n",
       "25%           2.015000\n",
       "50%           3.627000\n",
       "75%           6.571000\n",
       "max          94.440000\n",
       "Name: z_floor_grade, dtype: float64"
      ]
     },
     "execution_count": 26,
     "metadata": {},
     "output_type": "execute_result"
    }
   ],
   "source": [
    "# summary statics, including quantiles\n",
    "df['z_floor_grade'].describe()"
   ]
  },
  {
   "cell_type": "code",
   "execution_count": 27,
   "id": "e1d17449",
   "metadata": {},
   "outputs": [
    {
     "data": {
      "image/png": "[encoded data removed]",
      "text/plain": [
       "<Figure size 432x288 with 1 Axes>"
      ]
     },
     "metadata": {
      "needs_background": "light"
     },
     "output_type": "display_data"
    }
   ],
   "source": [
    "fig, ax = plt.subplots(figsize=(6, 4))\n",
    "\n",
    "sns.boxplot(\n",
    "    y=df['z_floor_grade'],\n",
    "    ax=ax\n",
    ")\n",
    "\n",
    "plt.tight_layout()"
   ]
  },
  {
   "cell_type": "markdown",
   "id": "c5b8cac4",
   "metadata": {},
   "source": [
    "# Frequency Table and Histograms"
   ]
  },
  {
   "cell_type": "code",
   "execution_count": 28,
   "id": "ec103fa7",
   "metadata": {},
   "outputs": [
    {
     "data": {
      "text/plain": [
       "0    (1.687, 7.484]\n",
       "1    (-4.11, 1.687]\n",
       "2    (1.687, 7.484]\n",
       "3    (1.687, 7.484]\n",
       "4    (1.687, 7.484]\n",
       "Name: z_floor_grade, dtype: category\n",
       "Categories (25, interval[float64, right]): [(-50.632, -44.69] < (-44.69, -38.893] < (-38.893, -33.096] < (-33.096, -27.299] ... (71.252, 77.049] < (77.049, 82.846] < (82.846, 88.643] < (88.643, 94.44]]"
      ]
     },
     "execution_count": 28,
     "metadata": {},
     "output_type": "execute_result"
    }
   ],
   "source": [
    "floor_height_binned = pd.cut(\n",
    "    df['z_floor_grade'],\n",
    "    bins=25\n",
    ")\n",
    "\n",
    "floor_height_binned.head()"
   ]
  },
  {
   "cell_type": "code",
   "execution_count": 29,
   "id": "ee85f598",
   "metadata": {},
   "outputs": [
    {
     "data": {
      "text/plain": [
       "(1.687, 7.484]        479508\n",
       "(-4.11, 1.687]        193123\n",
       "(7.484, 13.281]       171594\n",
       "(13.281, 19.078]        3104\n",
       "(19.078, 24.875]         320\n",
       "(24.875, 30.672]          81\n",
       "(30.672, 36.469]          34\n",
       "(36.469, 42.266]          17\n",
       "(-9.907, -4.11]           13\n",
       "(42.266, 48.063]          13\n",
       "(48.063, 53.86]            9\n",
       "(53.86, 59.658]            5\n",
       "(65.455, 71.252]           3\n",
       "(71.252, 77.049]           3\n",
       "(77.049, 82.846]           3\n",
       "(59.658, 65.455]           2\n",
       "(82.846, 88.643]           2\n",
       "(-50.632, -44.69]          1\n",
       "(-15.705, -9.907]          1\n",
       "(88.643, 94.44]            1\n",
       "(-44.69, -38.893]          0\n",
       "(-21.502, -15.705]         0\n",
       "(-27.299, -21.502]         0\n",
       "(-33.096, -27.299]         0\n",
       "(-38.893, -33.096]         0\n",
       "Name: z_floor_grade, dtype: int64"
      ]
     },
     "execution_count": 29,
     "metadata": {},
     "output_type": "execute_result"
    }
   ],
   "source": [
    "# count of values per bin\n",
    "floor_height_binned.value_counts()"
   ]
  },
  {
   "cell_type": "code",
   "execution_count": 30,
   "id": "13e97d95",
   "metadata": {},
   "outputs": [
    {
     "data": {
      "image/png": "[encoded data removed]",
      "text/plain": [
       "<Figure size 432x288 with 1 Axes>"
      ]
     },
     "metadata": {
      "needs_background": "light"
     },
     "output_type": "display_data"
    }
   ],
   "source": [
    "fig, ax = plt.subplots(figsize=(6, 4))\n",
    "\n",
    "sns.histplot(\n",
    "    df['z_floor_grade'],\n",
    "    bins=25,\n",
    "    ax=ax\n",
    ")\n",
    "\n",
    "plt.tight_layout()"
   ]
  },
  {
   "cell_type": "markdown",
   "id": "2bbb1701",
   "metadata": {},
   "source": [
    "# Density Estimates"
   ]
  },
  {
   "cell_type": "code",
   "execution_count": 31,
   "id": "083b860f",
   "metadata": {},
   "outputs": [
    {
     "data": {
      "image/png": "[encoded data removed]",
      "text/plain": [
       "<Figure size 432x288 with 1 Axes>"
      ]
     },
     "metadata": {
      "needs_background": "light"
     },
     "output_type": "display_data"
    }
   ],
   "source": [
    "fig, ax = plt.subplots(figsize=(6, 4))\n",
    "\n",
    "sns.kdeplot(\n",
    "    df['z_floor_grade'],\n",
    "    ax=ax\n",
    ")\n",
    "\n",
    "plt.tight_layout()"
   ]
  },
  {
   "cell_type": "code",
   "execution_count": 32,
   "id": "55df5662",
   "metadata": {},
   "outputs": [
    {
     "data": {
      "image/png": "[encoded data removed]",
      "text/plain": [
       "<Figure size 360x360 with 1 Axes>"
      ]
     },
     "metadata": {
      "needs_background": "light"
     },
     "output_type": "display_data"
    }
   ],
   "source": [
    "sns.displot(\n",
    "    df['z_floor_grade'],\n",
    "    kde=True\n",
    ")\n",
    "\n",
    "plt.tight_layout()"
   ]
  },
  {
   "cell_type": "markdown",
   "id": "221a4132",
   "metadata": {},
   "source": [
    "# Exploring Binary and Categorical Data"
   ]
  },
  {
   "cell_type": "code",
   "execution_count": 33,
   "id": "f3c88222",
   "metadata": {},
   "outputs": [
    {
     "data": {
      "text/plain": [
       "NTAName\n",
       "Shirley Chisholm State Park          0.162000\n",
       "Rockaway Community Park              0.355500\n",
       "Dyker Beach Park                     0.417600\n",
       "Cunningham Park                      0.434375\n",
       "Lincoln Terrace Park                 0.528000\n",
       "Holy Cross Cemetery                  0.567000\n",
       "McGuire Fields                       0.744000\n",
       "Montefiore Cemetery                  0.910000\n",
       "Barren Island-Floyd Bennett Field    0.964176\n",
       "Soundview Park                       1.050500\n",
       "Name: z_floor_grade, dtype: float64"
      ]
     },
     "execution_count": 33,
     "metadata": {},
     "output_type": "execute_result"
    }
   ],
   "source": [
    "lowest_floor_nta = (\n",
    "    df\n",
    "    .groupby(by='NTAName')['z_floor_grade']\n",
    "    .mean()\n",
    "    .sort_values(ascending=True)\n",
    "    .head(10)\n",
    ")\n",
    "\n",
    "lowest_floor_nta"
   ]
  },
  {
   "cell_type": "code",
   "execution_count": 34,
   "id": "193ac1e7",
   "metadata": {},
   "outputs": [
    {
     "data": {
      "image/png": "[encoded data removed]",
      "text/plain": [
       "<Figure size 432x288 with 1 Axes>"
      ]
     },
     "metadata": {
      "needs_background": "light"
     },
     "output_type": "display_data"
    }
   ],
   "source": [
    "fig, ax = plt.subplots(figsize=(6, 4))\n",
    "\n",
    "sns.barplot(\n",
    "    y=lowest_floor_nta.index,\n",
    "    x=lowest_floor_nta,\n",
    ")\n",
    "\n",
    "plt.title('NTAs with lowest average grade to floor height (ft.)', x=.2)\n",
    "plt.xlabel('Average grade to floor height (ft.)')\n",
    "plt.ylabel('NTA')\n",
    "\n",
    "plt.tight_layout()"
   ]
  },
  {
   "cell_type": "markdown",
   "id": "bae5098d",
   "metadata": {},
   "source": [
    "# Correlation"
   ]
  },
  {
   "cell_type": "code",
   "execution_count": 35,
   "id": "47a81654",
   "metadata": {},
   "outputs": [
    {
     "data": {
      "image/png": "[encoded data removed]",
      "text/plain": [
       "<Figure size 576x432 with 2 Axes>"
      ]
     },
     "metadata": {
      "needs_background": "light"
     },
     "output_type": "display_data"
    }
   ],
   "source": [
    "fig, ax = plt.subplots(figsize=(8, 6))\n",
    "\n",
    "sns.heatmap(\n",
    "    df.corr(),\n",
    "    ax=ax,\n",
    "    annot=True\n",
    ")\n",
    "\n",
    "plt.tight_layout()"
   ]
  },
  {
   "cell_type": "markdown",
   "id": "980d2999",
   "metadata": {},
   "source": [
    "# Scatterplots"
   ]
  },
  {
   "cell_type": "code",
   "execution_count": 36,
   "id": "facd53fb",
   "metadata": {},
   "outputs": [
    {
     "data": {
      "image/png": "[encoded data removed]",
      "text/plain": [
       "<Figure size 432x432 with 1 Axes>"
      ]
     },
     "metadata": {
      "needs_background": "light"
     },
     "output_type": "display_data"
    }
   ],
   "source": [
    "fig, ax = plt.subplots(figsize=(6, 6))\n",
    "\n",
    "sns.scatterplot(\n",
    "    x=df['z_grade'], \n",
    "    y=df['z_floor']\n",
    ")\n",
    "\n",
    "plt.tight_layout()"
   ]
  },
  {
   "cell_type": "markdown",
   "id": "40809f3d",
   "metadata": {},
   "source": [
    "# Hexagonal Binning Plots"
   ]
  },
  {
   "cell_type": "code",
   "execution_count": 37,
   "id": "787daee7",
   "metadata": {},
   "outputs": [
    {
     "data": {
      "image/png": "[encoded data removed]",
      "text/plain": [
       "<Figure size 432x288 with 2 Axes>"
      ]
     },
     "metadata": {
      "needs_background": "light"
     },
     "output_type": "display_data"
    }
   ],
   "source": [
    "fig, ax = plt.subplots(figsize=(6, 4))\n",
    "\n",
    "hb = ax.hexbin(\n",
    "    x=df['z_grade'],\n",
    "    y=df['z_floor'],\n",
    "    gridsize=20,\n",
    "    cmap='viridis'\n",
    ")\n",
    "\n",
    "cb = fig.colorbar(hb, ax=ax, label='counts')\n",
    "ax.set_xlabel('z_grade')\n",
    "ax.set_ylabel('z_floor')\n",
    "\n",
    "plt.tight_layout()"
   ]
  },
  {
   "cell_type": "markdown",
   "id": "ccbf60c9",
   "metadata": {},
   "source": [
    "# Categorical and Numeric Data"
   ]
  },
  {
   "cell_type": "code",
   "execution_count": 38,
   "id": "1fb5a941",
   "metadata": {},
   "outputs": [
    {
     "data": {
      "text/plain": [
       "QN    331101\n",
       "BK    273500\n",
       "SI    123614\n",
       "BX     89165\n",
       "MN     44496\n",
       "Name: boro_name, dtype: int64"
      ]
     },
     "execution_count": 38,
     "metadata": {},
     "output_type": "execute_result"
    }
   ],
   "source": [
    "df['boro_name'] = df['NTA2020'].str[:2]\n",
    "\n",
    "df['boro_name'].value_counts()"
   ]
  },
  {
   "cell_type": "code",
   "execution_count": 39,
   "id": "4c746f2e",
   "metadata": {},
   "outputs": [
    {
     "data": {
      "image/png": "[encoded data removed]",
      "text/plain": [
       "<Figure size 432x432 with 1 Axes>"
      ]
     },
     "metadata": {
      "needs_background": "light"
     },
     "output_type": "display_data"
    }
   ],
   "source": [
    "fig, ax = plt.subplots(figsize=(6, 6))\n",
    "\n",
    "sns.boxplot(\n",
    "    data=df,\n",
    "    x=\"boro_name\", \n",
    "    y=\"z_floor_grade\",\n",
    "    ax=ax\n",
    ")\n",
    "\n",
    "plt.tight_layout()"
   ]
  },
  {
   "cell_type": "code",
   "execution_count": 40,
   "id": "5e8bd394",
   "metadata": {},
   "outputs": [
    {
     "data": {
      "image/png": "[encoded data removed]",
      "text/plain": [
       "<Figure size 432x432 with 1 Axes>"
      ]
     },
     "metadata": {
      "needs_background": "light"
     },
     "output_type": "display_data"
    }
   ],
   "source": [
    "fig, ax = plt.subplots(figsize=(6, 6))\n",
    "\n",
    "sns.violinplot(\n",
    "    data=df,\n",
    "    x=\"boro_name\",\n",
    "    y=\"z_floor_grade\",\n",
    "    ax=ax\n",
    ")\n",
    "\n",
    "plt.tight_layout()"
   ]
  },
  {
   "cell_type": "code",
   "execution_count": null,
   "id": "f33811c9",
   "metadata": {},
   "outputs": [],
   "source": []
  }
 ],
 "metadata": {
  "kernelspec": {
   "display_name": "Python 3 (ipykernel)",
   "language": "python",
   "name": "python3"
  },
  "language_info": {
   "codemirror_mode": {
    "name": "ipython",
    "version": 3
   },
   "file_extension": ".py",
   "mimetype": "text/x-python",
   "name": "python",
   "nbconvert_exporter": "python",
   "pygments_lexer": "ipython3",
   "version": "3.8.13"
  }
 },
 "nbformat": 4,
 "nbformat_minor": 5
}
